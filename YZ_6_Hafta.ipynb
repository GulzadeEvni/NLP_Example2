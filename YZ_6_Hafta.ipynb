{
  "cells": [
    {
      "cell_type": "code",
      "execution_count": null,
      "metadata": {
        "colab": {
          "base_uri": "https://localhost:8080/"
        },
        "id": "ZDvkokbPlTpW",
        "outputId": "b1c92924-197c-451f-c5f5-6e844c4cf12b"
      },
      "outputs": [
        {
          "output_type": "stream",
          "name": "stdout",
          "text": [
            "Requirement already satisfied: langdetect in /usr/local/lib/python3.10/dist-packages (1.0.9)\n",
            "Requirement already satisfied: six in /usr/local/lib/python3.10/dist-packages (from langdetect) (1.16.0)\n"
          ]
        }
      ],
      "source": [
        "!pip install langdetect"
      ]
    },
    {
      "cell_type": "code",
      "execution_count": null,
      "metadata": {
        "id": "jsqGe9b2PGzU"
      },
      "outputs": [],
      "source": [
        "import warnings\n",
        "warnings.filterwarnings(\"ignore\")\n",
        "\n",
        "from wordcloud import WordCloud, STOPWORDS\n",
        "import os\n",
        "import pandas as pd\n",
        "import numpy as np\n",
        "import scipy as sp\n",
        "from sklearn.model_selection import train_test_split\n",
        "from sklearn.feature_extraction.text import CountVectorizer, TfidfVectorizer\n",
        "from sklearn.naive_bayes import MultinomialNB\n",
        "from sklearn.linear_model import LogisticRegression\n",
        "from sklearn import metrics\n",
        "from textblob import TextBlob, Word\n",
        "from nltk.stem.snowball import SnowballStemmer\n",
        "import seaborn as sns\n",
        "import matplotlib.pyplot as plt\n",
        "%matplotlib inline\n",
        "from PIL import Image\n",
        "import nltk\n",
        "from langdetect import detect\n",
        "from wordcloud import WordCloud"
      ]
    },
    {
      "cell_type": "code",
      "execution_count": null,
      "metadata": {
        "colab": {
          "base_uri": "https://localhost:8080/",
          "height": 206
        },
        "id": "PyOfo5mWkJ8L",
        "outputId": "26d27970-2fbf-496e-8ba8-f427f28cafb1"
      },
      "outputs": [
        {
          "output_type": "execute_result",
          "data": {
            "text/plain": [
              "   Unnamed: 0               review_id                 user_id  \\\n",
              "0     2370338  _WTGv5XnA-qb_XD1D7Z0jg  6PgdGb3HrZdsfl2GiULo8w   \n",
              "1     2370357  JlNnsvMPLK_1-X2hwzK24w  IS9yw8P2uAPBX6FNLLX4KA   \n",
              "2     2370373  hBkoWffORRb6aqKhC_Li2A  uZdFsE_aHbFBChgN6Xa8tw   \n",
              "3     2370411  rbkxvrgZg5kdCL2a66QYmA  8ZWJNAEWsymXDzKx3B0tTQ   \n",
              "4     2370500  5tw_pedoHVi9bgeiBNsISg  E0sm4Ve7ifanFYeQMcV8Eg   \n",
              "\n",
              "              business_id  stars  useful  funny  cool  \\\n",
              "0  RESDUcs7fIiihp38-d6_6g      5       0      1     0   \n",
              "1  RESDUcs7fIiihp38-d6_6g      4      39     21    29   \n",
              "2  RESDUcs7fIiihp38-d6_6g      4       1      1     1   \n",
              "3  RESDUcs7fIiihp38-d6_6g      1       0      0     0   \n",
              "4  RESDUcs7fIiihp38-d6_6g      5       0      0     0   \n",
              "\n",
              "                                                text                 date  \n",
              "0  After getting food poisoning at the Palms hote...  2012-12-04 03:10:18  \n",
              "1  \"A feast worthy of Gods\"\\n\\nBaccarnal Buffet i...  2014-01-17 00:50:50  \n",
              "2  The crab legs are better than the ones at Wick...  2015-06-08 18:03:09  \n",
              "3  Not worth it! Too salty food and expensive! Th...  2016-12-19 16:15:29  \n",
              "4  I would give this infinite stars if I could. M...  2015-07-28 07:13:17  "
            ],
            "text/html": [
              "\n",
              "  <div id=\"df-14addbda-0bcd-4c2b-993b-64af3fc3a970\" class=\"colab-df-container\">\n",
              "    <div>\n",
              "<style scoped>\n",
              "    .dataframe tbody tr th:only-of-type {\n",
              "        vertical-align: middle;\n",
              "    }\n",
              "\n",
              "    .dataframe tbody tr th {\n",
              "        vertical-align: top;\n",
              "    }\n",
              "\n",
              "    .dataframe thead th {\n",
              "        text-align: right;\n",
              "    }\n",
              "</style>\n",
              "<table border=\"1\" class=\"dataframe\">\n",
              "  <thead>\n",
              "    <tr style=\"text-align: right;\">\n",
              "      <th></th>\n",
              "      <th>Unnamed: 0</th>\n",
              "      <th>review_id</th>\n",
              "      <th>user_id</th>\n",
              "      <th>business_id</th>\n",
              "      <th>stars</th>\n",
              "      <th>useful</th>\n",
              "      <th>funny</th>\n",
              "      <th>cool</th>\n",
              "      <th>text</th>\n",
              "      <th>date</th>\n",
              "    </tr>\n",
              "  </thead>\n",
              "  <tbody>\n",
              "    <tr>\n",
              "      <th>0</th>\n",
              "      <td>2370338</td>\n",
              "      <td>_WTGv5XnA-qb_XD1D7Z0jg</td>\n",
              "      <td>6PgdGb3HrZdsfl2GiULo8w</td>\n",
              "      <td>RESDUcs7fIiihp38-d6_6g</td>\n",
              "      <td>5</td>\n",
              "      <td>0</td>\n",
              "      <td>1</td>\n",
              "      <td>0</td>\n",
              "      <td>After getting food poisoning at the Palms hote...</td>\n",
              "      <td>2012-12-04 03:10:18</td>\n",
              "    </tr>\n",
              "    <tr>\n",
              "      <th>1</th>\n",
              "      <td>2370357</td>\n",
              "      <td>JlNnsvMPLK_1-X2hwzK24w</td>\n",
              "      <td>IS9yw8P2uAPBX6FNLLX4KA</td>\n",
              "      <td>RESDUcs7fIiihp38-d6_6g</td>\n",
              "      <td>4</td>\n",
              "      <td>39</td>\n",
              "      <td>21</td>\n",
              "      <td>29</td>\n",
              "      <td>\"A feast worthy of Gods\"\\n\\nBaccarnal Buffet i...</td>\n",
              "      <td>2014-01-17 00:50:50</td>\n",
              "    </tr>\n",
              "    <tr>\n",
              "      <th>2</th>\n",
              "      <td>2370373</td>\n",
              "      <td>hBkoWffORRb6aqKhC_Li2A</td>\n",
              "      <td>uZdFsE_aHbFBChgN6Xa8tw</td>\n",
              "      <td>RESDUcs7fIiihp38-d6_6g</td>\n",
              "      <td>4</td>\n",
              "      <td>1</td>\n",
              "      <td>1</td>\n",
              "      <td>1</td>\n",
              "      <td>The crab legs are better than the ones at Wick...</td>\n",
              "      <td>2015-06-08 18:03:09</td>\n",
              "    </tr>\n",
              "    <tr>\n",
              "      <th>3</th>\n",
              "      <td>2370411</td>\n",
              "      <td>rbkxvrgZg5kdCL2a66QYmA</td>\n",
              "      <td>8ZWJNAEWsymXDzKx3B0tTQ</td>\n",
              "      <td>RESDUcs7fIiihp38-d6_6g</td>\n",
              "      <td>1</td>\n",
              "      <td>0</td>\n",
              "      <td>0</td>\n",
              "      <td>0</td>\n",
              "      <td>Not worth it! Too salty food and expensive! Th...</td>\n",
              "      <td>2016-12-19 16:15:29</td>\n",
              "    </tr>\n",
              "    <tr>\n",
              "      <th>4</th>\n",
              "      <td>2370500</td>\n",
              "      <td>5tw_pedoHVi9bgeiBNsISg</td>\n",
              "      <td>E0sm4Ve7ifanFYeQMcV8Eg</td>\n",
              "      <td>RESDUcs7fIiihp38-d6_6g</td>\n",
              "      <td>5</td>\n",
              "      <td>0</td>\n",
              "      <td>0</td>\n",
              "      <td>0</td>\n",
              "      <td>I would give this infinite stars if I could. M...</td>\n",
              "      <td>2015-07-28 07:13:17</td>\n",
              "    </tr>\n",
              "  </tbody>\n",
              "</table>\n",
              "</div>\n",
              "    <div class=\"colab-df-buttons\">\n",
              "\n",
              "  <div class=\"colab-df-container\">\n",
              "    <button class=\"colab-df-convert\" onclick=\"convertToInteractive('df-14addbda-0bcd-4c2b-993b-64af3fc3a970')\"\n",
              "            title=\"Convert this dataframe to an interactive table.\"\n",
              "            style=\"display:none;\">\n",
              "\n",
              "  <svg xmlns=\"http://www.w3.org/2000/svg\" height=\"24px\" viewBox=\"0 -960 960 960\">\n",
              "    <path d=\"M120-120v-720h720v720H120Zm60-500h600v-160H180v160Zm220 220h160v-160H400v160Zm0 220h160v-160H400v160ZM180-400h160v-160H180v160Zm440 0h160v-160H620v160ZM180-180h160v-160H180v160Zm440 0h160v-160H620v160Z\"/>\n",
              "  </svg>\n",
              "    </button>\n",
              "\n",
              "  <style>\n",
              "    .colab-df-container {\n",
              "      display:flex;\n",
              "      gap: 12px;\n",
              "    }\n",
              "\n",
              "    .colab-df-convert {\n",
              "      background-color: #E8F0FE;\n",
              "      border: none;\n",
              "      border-radius: 50%;\n",
              "      cursor: pointer;\n",
              "      display: none;\n",
              "      fill: #1967D2;\n",
              "      height: 32px;\n",
              "      padding: 0 0 0 0;\n",
              "      width: 32px;\n",
              "    }\n",
              "\n",
              "    .colab-df-convert:hover {\n",
              "      background-color: #E2EBFA;\n",
              "      box-shadow: 0px 1px 2px rgba(60, 64, 67, 0.3), 0px 1px 3px 1px rgba(60, 64, 67, 0.15);\n",
              "      fill: #174EA6;\n",
              "    }\n",
              "\n",
              "    .colab-df-buttons div {\n",
              "      margin-bottom: 4px;\n",
              "    }\n",
              "\n",
              "    [theme=dark] .colab-df-convert {\n",
              "      background-color: #3B4455;\n",
              "      fill: #D2E3FC;\n",
              "    }\n",
              "\n",
              "    [theme=dark] .colab-df-convert:hover {\n",
              "      background-color: #434B5C;\n",
              "      box-shadow: 0px 1px 3px 1px rgba(0, 0, 0, 0.15);\n",
              "      filter: drop-shadow(0px 1px 2px rgba(0, 0, 0, 0.3));\n",
              "      fill: #FFFFFF;\n",
              "    }\n",
              "  </style>\n",
              "\n",
              "    <script>\n",
              "      const buttonEl =\n",
              "        document.querySelector('#df-14addbda-0bcd-4c2b-993b-64af3fc3a970 button.colab-df-convert');\n",
              "      buttonEl.style.display =\n",
              "        google.colab.kernel.accessAllowed ? 'block' : 'none';\n",
              "\n",
              "      async function convertToInteractive(key) {\n",
              "        const element = document.querySelector('#df-14addbda-0bcd-4c2b-993b-64af3fc3a970');\n",
              "        const dataTable =\n",
              "          await google.colab.kernel.invokeFunction('convertToInteractive',\n",
              "                                                    [key], {});\n",
              "        if (!dataTable) return;\n",
              "\n",
              "        const docLinkHtml = 'Like what you see? Visit the ' +\n",
              "          '<a target=\"_blank\" href=https://colab.research.google.com/notebooks/data_table.ipynb>data table notebook</a>'\n",
              "          + ' to learn more about interactive tables.';\n",
              "        element.innerHTML = '';\n",
              "        dataTable['output_type'] = 'display_data';\n",
              "        await google.colab.output.renderOutput(dataTable, element);\n",
              "        const docLink = document.createElement('div');\n",
              "        docLink.innerHTML = docLinkHtml;\n",
              "        element.appendChild(docLink);\n",
              "      }\n",
              "    </script>\n",
              "  </div>\n",
              "\n",
              "\n",
              "<div id=\"df-da98bccf-5d4e-46bc-b773-5f20214d03a0\">\n",
              "  <button class=\"colab-df-quickchart\" onclick=\"quickchart('df-da98bccf-5d4e-46bc-b773-5f20214d03a0')\"\n",
              "            title=\"Suggest charts\"\n",
              "            style=\"display:none;\">\n",
              "\n",
              "<svg xmlns=\"http://www.w3.org/2000/svg\" height=\"24px\"viewBox=\"0 0 24 24\"\n",
              "     width=\"24px\">\n",
              "    <g>\n",
              "        <path d=\"M19 3H5c-1.1 0-2 .9-2 2v14c0 1.1.9 2 2 2h14c1.1 0 2-.9 2-2V5c0-1.1-.9-2-2-2zM9 17H7v-7h2v7zm4 0h-2V7h2v10zm4 0h-2v-4h2v4z\"/>\n",
              "    </g>\n",
              "</svg>\n",
              "  </button>\n",
              "\n",
              "<style>\n",
              "  .colab-df-quickchart {\n",
              "      --bg-color: #E8F0FE;\n",
              "      --fill-color: #1967D2;\n",
              "      --hover-bg-color: #E2EBFA;\n",
              "      --hover-fill-color: #174EA6;\n",
              "      --disabled-fill-color: #AAA;\n",
              "      --disabled-bg-color: #DDD;\n",
              "  }\n",
              "\n",
              "  [theme=dark] .colab-df-quickchart {\n",
              "      --bg-color: #3B4455;\n",
              "      --fill-color: #D2E3FC;\n",
              "      --hover-bg-color: #434B5C;\n",
              "      --hover-fill-color: #FFFFFF;\n",
              "      --disabled-bg-color: #3B4455;\n",
              "      --disabled-fill-color: #666;\n",
              "  }\n",
              "\n",
              "  .colab-df-quickchart {\n",
              "    background-color: var(--bg-color);\n",
              "    border: none;\n",
              "    border-radius: 50%;\n",
              "    cursor: pointer;\n",
              "    display: none;\n",
              "    fill: var(--fill-color);\n",
              "    height: 32px;\n",
              "    padding: 0;\n",
              "    width: 32px;\n",
              "  }\n",
              "\n",
              "  .colab-df-quickchart:hover {\n",
              "    background-color: var(--hover-bg-color);\n",
              "    box-shadow: 0 1px 2px rgba(60, 64, 67, 0.3), 0 1px 3px 1px rgba(60, 64, 67, 0.15);\n",
              "    fill: var(--button-hover-fill-color);\n",
              "  }\n",
              "\n",
              "  .colab-df-quickchart-complete:disabled,\n",
              "  .colab-df-quickchart-complete:disabled:hover {\n",
              "    background-color: var(--disabled-bg-color);\n",
              "    fill: var(--disabled-fill-color);\n",
              "    box-shadow: none;\n",
              "  }\n",
              "\n",
              "  .colab-df-spinner {\n",
              "    border: 2px solid var(--fill-color);\n",
              "    border-color: transparent;\n",
              "    border-bottom-color: var(--fill-color);\n",
              "    animation:\n",
              "      spin 1s steps(1) infinite;\n",
              "  }\n",
              "\n",
              "  @keyframes spin {\n",
              "    0% {\n",
              "      border-color: transparent;\n",
              "      border-bottom-color: var(--fill-color);\n",
              "      border-left-color: var(--fill-color);\n",
              "    }\n",
              "    20% {\n",
              "      border-color: transparent;\n",
              "      border-left-color: var(--fill-color);\n",
              "      border-top-color: var(--fill-color);\n",
              "    }\n",
              "    30% {\n",
              "      border-color: transparent;\n",
              "      border-left-color: var(--fill-color);\n",
              "      border-top-color: var(--fill-color);\n",
              "      border-right-color: var(--fill-color);\n",
              "    }\n",
              "    40% {\n",
              "      border-color: transparent;\n",
              "      border-right-color: var(--fill-color);\n",
              "      border-top-color: var(--fill-color);\n",
              "    }\n",
              "    60% {\n",
              "      border-color: transparent;\n",
              "      border-right-color: var(--fill-color);\n",
              "    }\n",
              "    80% {\n",
              "      border-color: transparent;\n",
              "      border-right-color: var(--fill-color);\n",
              "      border-bottom-color: var(--fill-color);\n",
              "    }\n",
              "    90% {\n",
              "      border-color: transparent;\n",
              "      border-bottom-color: var(--fill-color);\n",
              "    }\n",
              "  }\n",
              "</style>\n",
              "\n",
              "  <script>\n",
              "    async function quickchart(key) {\n",
              "      const quickchartButtonEl =\n",
              "        document.querySelector('#' + key + ' button');\n",
              "      quickchartButtonEl.disabled = true;  // To prevent multiple clicks.\n",
              "      quickchartButtonEl.classList.add('colab-df-spinner');\n",
              "      try {\n",
              "        const charts = await google.colab.kernel.invokeFunction(\n",
              "            'suggestCharts', [key], {});\n",
              "      } catch (error) {\n",
              "        console.error('Error during call to suggestCharts:', error);\n",
              "      }\n",
              "      quickchartButtonEl.classList.remove('colab-df-spinner');\n",
              "      quickchartButtonEl.classList.add('colab-df-quickchart-complete');\n",
              "    }\n",
              "    (() => {\n",
              "      let quickchartButtonEl =\n",
              "        document.querySelector('#df-da98bccf-5d4e-46bc-b773-5f20214d03a0 button');\n",
              "      quickchartButtonEl.style.display =\n",
              "        google.colab.kernel.accessAllowed ? 'block' : 'none';\n",
              "    })();\n",
              "  </script>\n",
              "</div>\n",
              "    </div>\n",
              "  </div>\n"
            ]
          },
          "metadata": {},
          "execution_count": 7
        }
      ],
      "source": [
        "yelp = pd.read_csv('/content/drive/MyDrive/restaurant1/restaurant.csv')\n",
        "yelp.head()"
      ]
    },
    {
      "cell_type": "code",
      "source": [
        "from google.colab import drive\n",
        "drive.mount('/content/drive')"
      ],
      "metadata": {
        "colab": {
          "base_uri": "https://localhost:8080/"
        },
        "id": "jL1_QpaKn2cb",
        "outputId": "505e76a0-4fb0-450e-8364-8f7c1e5b3260"
      },
      "execution_count": null,
      "outputs": [
        {
          "output_type": "stream",
          "name": "stdout",
          "text": [
            "Drive already mounted at /content/drive; to attempt to forcibly remount, call drive.mount(\"/content/drive\", force_remount=True).\n"
          ]
        }
      ]
    },
    {
      "cell_type": "code",
      "execution_count": null,
      "metadata": {
        "id": "U0tm7_DImgsj",
        "colab": {
          "base_uri": "https://localhost:8080/"
        },
        "outputId": "18398e1a-4c5c-4c56-90d4-2939f152cc14"
      },
      "outputs": [
        {
          "output_type": "stream",
          "name": "stdout",
          "text": [
            "<class 'pandas.core.frame.DataFrame'>\n",
            "RangeIndex: 10417 entries, 0 to 10416\n",
            "Data columns (total 10 columns):\n",
            " #   Column       Non-Null Count  Dtype \n",
            "---  ------       --------------  ----- \n",
            " 0   Unnamed: 0   10417 non-null  int64 \n",
            " 1   review_id    10417 non-null  object\n",
            " 2   user_id      10417 non-null  object\n",
            " 3   business_id  10417 non-null  object\n",
            " 4   stars        10417 non-null  int64 \n",
            " 5   useful       10417 non-null  int64 \n",
            " 6   funny        10417 non-null  int64 \n",
            " 7   cool         10417 non-null  int64 \n",
            " 8   text         10417 non-null  object\n",
            " 9   date         10417 non-null  object\n",
            "dtypes: int64(5), object(5)\n",
            "memory usage: 814.0+ KB\n"
          ]
        }
      ],
      "source": [
        "yelp.info()"
      ]
    },
    {
      "cell_type": "code",
      "execution_count": null,
      "metadata": {
        "id": "KD8K8llpmgic"
      },
      "outputs": [],
      "source": [
        "yelp['text']=yelp['text'].str.lower()"
      ]
    },
    {
      "cell_type": "code",
      "execution_count": null,
      "metadata": {
        "id": "WqjlobY0mmxz"
      },
      "outputs": [],
      "source": [
        "yelp['text']=yelp['text'].str.replace('[^\\w\\s]','')"
      ]
    },
    {
      "cell_type": "code",
      "execution_count": null,
      "metadata": {
        "id": "2-6yw45ymmuU"
      },
      "outputs": [],
      "source": [
        "yelp['text']=yelp['text'].str.replace('\\d+','')"
      ]
    },
    {
      "cell_type": "code",
      "execution_count": null,
      "metadata": {
        "id": "yYVl52eemmrq"
      },
      "outputs": [],
      "source": [
        "yelp['text']=yelp['text'].str.replace('\\n','').replace('\\r','')"
      ]
    },
    {
      "cell_type": "code",
      "execution_count": null,
      "metadata": {
        "id": "6EvkYpdMmmjG",
        "colab": {
          "base_uri": "https://localhost:8080/"
        },
        "outputId": "cd746ba3-f76d-4b22-da55-7cf5312666b3"
      },
      "outputs": [
        {
          "output_type": "stream",
          "name": "stdout",
          "text": [
            "(5303,)\n"
          ]
        }
      ],
      "source": [
        "#create a new DataFrame that only contains the 5-star and 1-star reviews\n",
        "yelp_best_worst=yelp[(yelp.stars==5) | (yelp.stars==1)]\n",
        "\n",
        "yelp_best_worst.reset_index(drop=True, inplace=True) #reset the indices and instead of creating another data frame, let's just do it inplace\n",
        "\n",
        "x = yelp_best_worst.text #reviews\n",
        "y = yelp_best_worst.stars #raitings\n",
        "#print(x) to look at x\n",
        "#print(y) to look y\n",
        "print(x.shape)\n",
        "\n",
        "x_train, x_test, y_train, y_test = train_test_split(x,y,random_state=11)"
      ]
    },
    {
      "cell_type": "code",
      "source": [
        "yelp_best_worst.head()"
      ],
      "metadata": {
        "colab": {
          "base_uri": "https://localhost:8080/",
          "height": 206
        },
        "id": "b6HDQz_HxKXA",
        "outputId": "767f4c3c-c6d8-42cc-8bba-872054ad9ff8"
      },
      "execution_count": null,
      "outputs": [
        {
          "output_type": "execute_result",
          "data": {
            "text/plain": [
              "   Unnamed: 0               review_id                 user_id  \\\n",
              "0     2370338  _WTGv5XnA-qb_XD1D7Z0jg  6PgdGb3HrZdsfl2GiULo8w   \n",
              "1     2370411  rbkxvrgZg5kdCL2a66QYmA  8ZWJNAEWsymXDzKx3B0tTQ   \n",
              "2     2370500  5tw_pedoHVi9bgeiBNsISg  E0sm4Ve7ifanFYeQMcV8Eg   \n",
              "3     2370586  gmZJrnsIpYIrhPBsaAVjIw  mCHQQxluggGNYOKqpiR94g   \n",
              "4     2371005  9n4EEhhLlaLDX3QQFVoHMw  or1TN9s4LSRfBF6kmzmb5g   \n",
              "\n",
              "              business_id  stars  useful  funny  cool  \\\n",
              "0  RESDUcs7fIiihp38-d6_6g      5       0      1     0   \n",
              "1  RESDUcs7fIiihp38-d6_6g      1       0      0     0   \n",
              "2  RESDUcs7fIiihp38-d6_6g      5       0      0     0   \n",
              "3  RESDUcs7fIiihp38-d6_6g      5       0      0     0   \n",
              "4  RESDUcs7fIiihp38-d6_6g      5       0      0     0   \n",
              "\n",
              "                                                text                 date  \n",
              "0  after getting food poisoning at the palms hote...  2012-12-04 03:10:18  \n",
              "1  not worth it too salty food and expensive this...  2016-12-19 16:15:29  \n",
              "2  i would give this infinite stars if i could my...  2015-07-28 07:13:17  \n",
              "3  really enjoyed everything they had to offer it...  2015-04-01 16:18:34  \n",
              "4  lots of choices good service line wasnt as lon...  2017-03-27 00:42:19  "
            ],
            "text/html": [
              "\n",
              "  <div id=\"df-40e24d16-473f-4611-af93-a62a9c4236ca\" class=\"colab-df-container\">\n",
              "    <div>\n",
              "<style scoped>\n",
              "    .dataframe tbody tr th:only-of-type {\n",
              "        vertical-align: middle;\n",
              "    }\n",
              "\n",
              "    .dataframe tbody tr th {\n",
              "        vertical-align: top;\n",
              "    }\n",
              "\n",
              "    .dataframe thead th {\n",
              "        text-align: right;\n",
              "    }\n",
              "</style>\n",
              "<table border=\"1\" class=\"dataframe\">\n",
              "  <thead>\n",
              "    <tr style=\"text-align: right;\">\n",
              "      <th></th>\n",
              "      <th>Unnamed: 0</th>\n",
              "      <th>review_id</th>\n",
              "      <th>user_id</th>\n",
              "      <th>business_id</th>\n",
              "      <th>stars</th>\n",
              "      <th>useful</th>\n",
              "      <th>funny</th>\n",
              "      <th>cool</th>\n",
              "      <th>text</th>\n",
              "      <th>date</th>\n",
              "    </tr>\n",
              "  </thead>\n",
              "  <tbody>\n",
              "    <tr>\n",
              "      <th>0</th>\n",
              "      <td>2370338</td>\n",
              "      <td>_WTGv5XnA-qb_XD1D7Z0jg</td>\n",
              "      <td>6PgdGb3HrZdsfl2GiULo8w</td>\n",
              "      <td>RESDUcs7fIiihp38-d6_6g</td>\n",
              "      <td>5</td>\n",
              "      <td>0</td>\n",
              "      <td>1</td>\n",
              "      <td>0</td>\n",
              "      <td>after getting food poisoning at the palms hote...</td>\n",
              "      <td>2012-12-04 03:10:18</td>\n",
              "    </tr>\n",
              "    <tr>\n",
              "      <th>1</th>\n",
              "      <td>2370411</td>\n",
              "      <td>rbkxvrgZg5kdCL2a66QYmA</td>\n",
              "      <td>8ZWJNAEWsymXDzKx3B0tTQ</td>\n",
              "      <td>RESDUcs7fIiihp38-d6_6g</td>\n",
              "      <td>1</td>\n",
              "      <td>0</td>\n",
              "      <td>0</td>\n",
              "      <td>0</td>\n",
              "      <td>not worth it too salty food and expensive this...</td>\n",
              "      <td>2016-12-19 16:15:29</td>\n",
              "    </tr>\n",
              "    <tr>\n",
              "      <th>2</th>\n",
              "      <td>2370500</td>\n",
              "      <td>5tw_pedoHVi9bgeiBNsISg</td>\n",
              "      <td>E0sm4Ve7ifanFYeQMcV8Eg</td>\n",
              "      <td>RESDUcs7fIiihp38-d6_6g</td>\n",
              "      <td>5</td>\n",
              "      <td>0</td>\n",
              "      <td>0</td>\n",
              "      <td>0</td>\n",
              "      <td>i would give this infinite stars if i could my...</td>\n",
              "      <td>2015-07-28 07:13:17</td>\n",
              "    </tr>\n",
              "    <tr>\n",
              "      <th>3</th>\n",
              "      <td>2370586</td>\n",
              "      <td>gmZJrnsIpYIrhPBsaAVjIw</td>\n",
              "      <td>mCHQQxluggGNYOKqpiR94g</td>\n",
              "      <td>RESDUcs7fIiihp38-d6_6g</td>\n",
              "      <td>5</td>\n",
              "      <td>0</td>\n",
              "      <td>0</td>\n",
              "      <td>0</td>\n",
              "      <td>really enjoyed everything they had to offer it...</td>\n",
              "      <td>2015-04-01 16:18:34</td>\n",
              "    </tr>\n",
              "    <tr>\n",
              "      <th>4</th>\n",
              "      <td>2371005</td>\n",
              "      <td>9n4EEhhLlaLDX3QQFVoHMw</td>\n",
              "      <td>or1TN9s4LSRfBF6kmzmb5g</td>\n",
              "      <td>RESDUcs7fIiihp38-d6_6g</td>\n",
              "      <td>5</td>\n",
              "      <td>0</td>\n",
              "      <td>0</td>\n",
              "      <td>0</td>\n",
              "      <td>lots of choices good service line wasnt as lon...</td>\n",
              "      <td>2017-03-27 00:42:19</td>\n",
              "    </tr>\n",
              "  </tbody>\n",
              "</table>\n",
              "</div>\n",
              "    <div class=\"colab-df-buttons\">\n",
              "\n",
              "  <div class=\"colab-df-container\">\n",
              "    <button class=\"colab-df-convert\" onclick=\"convertToInteractive('df-40e24d16-473f-4611-af93-a62a9c4236ca')\"\n",
              "            title=\"Convert this dataframe to an interactive table.\"\n",
              "            style=\"display:none;\">\n",
              "\n",
              "  <svg xmlns=\"http://www.w3.org/2000/svg\" height=\"24px\" viewBox=\"0 -960 960 960\">\n",
              "    <path d=\"M120-120v-720h720v720H120Zm60-500h600v-160H180v160Zm220 220h160v-160H400v160Zm0 220h160v-160H400v160ZM180-400h160v-160H180v160Zm440 0h160v-160H620v160ZM180-180h160v-160H180v160Zm440 0h160v-160H620v160Z\"/>\n",
              "  </svg>\n",
              "    </button>\n",
              "\n",
              "  <style>\n",
              "    .colab-df-container {\n",
              "      display:flex;\n",
              "      gap: 12px;\n",
              "    }\n",
              "\n",
              "    .colab-df-convert {\n",
              "      background-color: #E8F0FE;\n",
              "      border: none;\n",
              "      border-radius: 50%;\n",
              "      cursor: pointer;\n",
              "      display: none;\n",
              "      fill: #1967D2;\n",
              "      height: 32px;\n",
              "      padding: 0 0 0 0;\n",
              "      width: 32px;\n",
              "    }\n",
              "\n",
              "    .colab-df-convert:hover {\n",
              "      background-color: #E2EBFA;\n",
              "      box-shadow: 0px 1px 2px rgba(60, 64, 67, 0.3), 0px 1px 3px 1px rgba(60, 64, 67, 0.15);\n",
              "      fill: #174EA6;\n",
              "    }\n",
              "\n",
              "    .colab-df-buttons div {\n",
              "      margin-bottom: 4px;\n",
              "    }\n",
              "\n",
              "    [theme=dark] .colab-df-convert {\n",
              "      background-color: #3B4455;\n",
              "      fill: #D2E3FC;\n",
              "    }\n",
              "\n",
              "    [theme=dark] .colab-df-convert:hover {\n",
              "      background-color: #434B5C;\n",
              "      box-shadow: 0px 1px 3px 1px rgba(0, 0, 0, 0.15);\n",
              "      filter: drop-shadow(0px 1px 2px rgba(0, 0, 0, 0.3));\n",
              "      fill: #FFFFFF;\n",
              "    }\n",
              "  </style>\n",
              "\n",
              "    <script>\n",
              "      const buttonEl =\n",
              "        document.querySelector('#df-40e24d16-473f-4611-af93-a62a9c4236ca button.colab-df-convert');\n",
              "      buttonEl.style.display =\n",
              "        google.colab.kernel.accessAllowed ? 'block' : 'none';\n",
              "\n",
              "      async function convertToInteractive(key) {\n",
              "        const element = document.querySelector('#df-40e24d16-473f-4611-af93-a62a9c4236ca');\n",
              "        const dataTable =\n",
              "          await google.colab.kernel.invokeFunction('convertToInteractive',\n",
              "                                                    [key], {});\n",
              "        if (!dataTable) return;\n",
              "\n",
              "        const docLinkHtml = 'Like what you see? Visit the ' +\n",
              "          '<a target=\"_blank\" href=https://colab.research.google.com/notebooks/data_table.ipynb>data table notebook</a>'\n",
              "          + ' to learn more about interactive tables.';\n",
              "        element.innerHTML = '';\n",
              "        dataTable['output_type'] = 'display_data';\n",
              "        await google.colab.output.renderOutput(dataTable, element);\n",
              "        const docLink = document.createElement('div');\n",
              "        docLink.innerHTML = docLinkHtml;\n",
              "        element.appendChild(docLink);\n",
              "      }\n",
              "    </script>\n",
              "  </div>\n",
              "\n",
              "\n",
              "<div id=\"df-8afc193c-2777-47eb-933a-b956cbf18e8d\">\n",
              "  <button class=\"colab-df-quickchart\" onclick=\"quickchart('df-8afc193c-2777-47eb-933a-b956cbf18e8d')\"\n",
              "            title=\"Suggest charts\"\n",
              "            style=\"display:none;\">\n",
              "\n",
              "<svg xmlns=\"http://www.w3.org/2000/svg\" height=\"24px\"viewBox=\"0 0 24 24\"\n",
              "     width=\"24px\">\n",
              "    <g>\n",
              "        <path d=\"M19 3H5c-1.1 0-2 .9-2 2v14c0 1.1.9 2 2 2h14c1.1 0 2-.9 2-2V5c0-1.1-.9-2-2-2zM9 17H7v-7h2v7zm4 0h-2V7h2v10zm4 0h-2v-4h2v4z\"/>\n",
              "    </g>\n",
              "</svg>\n",
              "  </button>\n",
              "\n",
              "<style>\n",
              "  .colab-df-quickchart {\n",
              "      --bg-color: #E8F0FE;\n",
              "      --fill-color: #1967D2;\n",
              "      --hover-bg-color: #E2EBFA;\n",
              "      --hover-fill-color: #174EA6;\n",
              "      --disabled-fill-color: #AAA;\n",
              "      --disabled-bg-color: #DDD;\n",
              "  }\n",
              "\n",
              "  [theme=dark] .colab-df-quickchart {\n",
              "      --bg-color: #3B4455;\n",
              "      --fill-color: #D2E3FC;\n",
              "      --hover-bg-color: #434B5C;\n",
              "      --hover-fill-color: #FFFFFF;\n",
              "      --disabled-bg-color: #3B4455;\n",
              "      --disabled-fill-color: #666;\n",
              "  }\n",
              "\n",
              "  .colab-df-quickchart {\n",
              "    background-color: var(--bg-color);\n",
              "    border: none;\n",
              "    border-radius: 50%;\n",
              "    cursor: pointer;\n",
              "    display: none;\n",
              "    fill: var(--fill-color);\n",
              "    height: 32px;\n",
              "    padding: 0;\n",
              "    width: 32px;\n",
              "  }\n",
              "\n",
              "  .colab-df-quickchart:hover {\n",
              "    background-color: var(--hover-bg-color);\n",
              "    box-shadow: 0 1px 2px rgba(60, 64, 67, 0.3), 0 1px 3px 1px rgba(60, 64, 67, 0.15);\n",
              "    fill: var(--button-hover-fill-color);\n",
              "  }\n",
              "\n",
              "  .colab-df-quickchart-complete:disabled,\n",
              "  .colab-df-quickchart-complete:disabled:hover {\n",
              "    background-color: var(--disabled-bg-color);\n",
              "    fill: var(--disabled-fill-color);\n",
              "    box-shadow: none;\n",
              "  }\n",
              "\n",
              "  .colab-df-spinner {\n",
              "    border: 2px solid var(--fill-color);\n",
              "    border-color: transparent;\n",
              "    border-bottom-color: var(--fill-color);\n",
              "    animation:\n",
              "      spin 1s steps(1) infinite;\n",
              "  }\n",
              "\n",
              "  @keyframes spin {\n",
              "    0% {\n",
              "      border-color: transparent;\n",
              "      border-bottom-color: var(--fill-color);\n",
              "      border-left-color: var(--fill-color);\n",
              "    }\n",
              "    20% {\n",
              "      border-color: transparent;\n",
              "      border-left-color: var(--fill-color);\n",
              "      border-top-color: var(--fill-color);\n",
              "    }\n",
              "    30% {\n",
              "      border-color: transparent;\n",
              "      border-left-color: var(--fill-color);\n",
              "      border-top-color: var(--fill-color);\n",
              "      border-right-color: var(--fill-color);\n",
              "    }\n",
              "    40% {\n",
              "      border-color: transparent;\n",
              "      border-right-color: var(--fill-color);\n",
              "      border-top-color: var(--fill-color);\n",
              "    }\n",
              "    60% {\n",
              "      border-color: transparent;\n",
              "      border-right-color: var(--fill-color);\n",
              "    }\n",
              "    80% {\n",
              "      border-color: transparent;\n",
              "      border-right-color: var(--fill-color);\n",
              "      border-bottom-color: var(--fill-color);\n",
              "    }\n",
              "    90% {\n",
              "      border-color: transparent;\n",
              "      border-bottom-color: var(--fill-color);\n",
              "    }\n",
              "  }\n",
              "</style>\n",
              "\n",
              "  <script>\n",
              "    async function quickchart(key) {\n",
              "      const quickchartButtonEl =\n",
              "        document.querySelector('#' + key + ' button');\n",
              "      quickchartButtonEl.disabled = true;  // To prevent multiple clicks.\n",
              "      quickchartButtonEl.classList.add('colab-df-spinner');\n",
              "      try {\n",
              "        const charts = await google.colab.kernel.invokeFunction(\n",
              "            'suggestCharts', [key], {});\n",
              "      } catch (error) {\n",
              "        console.error('Error during call to suggestCharts:', error);\n",
              "      }\n",
              "      quickchartButtonEl.classList.remove('colab-df-spinner');\n",
              "      quickchartButtonEl.classList.add('colab-df-quickchart-complete');\n",
              "    }\n",
              "    (() => {\n",
              "      let quickchartButtonEl =\n",
              "        document.querySelector('#df-8afc193c-2777-47eb-933a-b956cbf18e8d button');\n",
              "      quickchartButtonEl.style.display =\n",
              "        google.colab.kernel.accessAllowed ? 'block' : 'none';\n",
              "    })();\n",
              "  </script>\n",
              "</div>\n",
              "    </div>\n",
              "  </div>\n"
            ]
          },
          "metadata": {},
          "execution_count": 15
        }
      ]
    },
    {
      "cell_type": "code",
      "execution_count": null,
      "metadata": {
        "id": "I_8F9cuqmmfv",
        "colab": {
          "base_uri": "https://localhost:8080/"
        },
        "outputId": "1d3c9efa-ef09-4754-a547-14320a138783"
      },
      "outputs": [
        {
          "output_type": "execute_result",
          "data": {
            "text/plain": [
              "0       after getting food poisoning at the palms hote...\n",
              "1       not worth it too salty food and expensive this...\n",
              "2       i would give this infinite stars if i could my...\n",
              "3       really enjoyed everything they had to offer it...\n",
              "4       lots of choices good service line wasnt as lon...\n",
              "                              ...                        \n",
              "5298    we went to bacchanal on easter sunday as it wa...\n",
              "5299    came him from la thanksgiving week we decided ...\n",
              "5300    every time we visit las vegas we go to this bu...\n",
              "5301    best buffet ever irma was great served us bett...\n",
              "5302    the selection is amazing and all the food is e...\n",
              "Name: text, Length: 5303, dtype: object"
            ]
          },
          "metadata": {},
          "execution_count": 16
        }
      ],
      "source": [
        "x"
      ]
    },
    {
      "cell_type": "markdown",
      "source": [
        "Tokenization"
      ],
      "metadata": {
        "id": "kqdwLh-btv_Y"
      }
    },
    {
      "cell_type": "code",
      "source": [
        "#use countvectorizer to create document term matrices from x_train\n",
        "vect = CountVectorizer(stop_words='english')\n",
        "#tokanize the document and count the occurences of token and\n",
        "#return them as a sparse matrix\n",
        "\n",
        "x_train_dtm=vect.fit_transform(x_train)\n",
        "#learn the vocubulary dictionary an create term document matrix\n",
        "\n",
        "#print(x_train_dtm)\n",
        "#print(x_train_dtm.shape)\n",
        "x_test_dtm=vect.transform(x_test)\n",
        "print(x_test_dtm)\n",
        "#x_text_dtm.shape"
      ],
      "metadata": {
        "id": "4AywHLC9tyLK",
        "colab": {
          "base_uri": "https://localhost:8080/"
        },
        "outputId": "37c862a7-75a6-47a5-ed2f-dea950b66e0e"
      },
      "execution_count": null,
      "outputs": [
        {
          "output_type": "stream",
          "name": "stdout",
          "text": [
            "  (0, 102)\t1\n",
            "  (0, 1642)\t2\n",
            "  (0, 1804)\t1\n",
            "  (0, 2729)\t1\n",
            "  (0, 4384)\t2\n",
            "  (0, 4592)\t1\n",
            "  (0, 5132)\t1\n",
            "  (0, 5467)\t1\n",
            "  (0, 6108)\t1\n",
            "  (0, 6357)\t1\n",
            "  (0, 7482)\t1\n",
            "  (0, 7720)\t1\n",
            "  (0, 7930)\t1\n",
            "  (0, 8446)\t1\n",
            "  (0, 8550)\t2\n",
            "  (0, 8609)\t1\n",
            "  (0, 10190)\t1\n",
            "  (0, 10361)\t1\n",
            "  (0, 10977)\t1\n",
            "  (0, 12852)\t1\n",
            "  (0, 13452)\t1\n",
            "  (0, 15239)\t1\n",
            "  (0, 15850)\t1\n",
            "  (1, 366)\t1\n",
            "  (1, 1804)\t2\n",
            "  :\t:\n",
            "  (1324, 366)\t1\n",
            "  (1324, 1376)\t1\n",
            "  (1324, 2155)\t1\n",
            "  (1324, 3472)\t1\n",
            "  (1324, 4836)\t1\n",
            "  (1324, 4912)\t1\n",
            "  (1324, 5104)\t1\n",
            "  (1324, 5467)\t1\n",
            "  (1324, 6737)\t1\n",
            "  (1324, 8550)\t1\n",
            "  (1324, 10554)\t1\n",
            "  (1324, 11444)\t1\n",
            "  (1324, 12422)\t1\n",
            "  (1324, 12497)\t2\n",
            "  (1324, 13202)\t1\n",
            "  (1324, 13340)\t1\n",
            "  (1324, 13823)\t1\n",
            "  (1324, 15696)\t1\n",
            "  (1325, 5467)\t1\n",
            "  (1325, 6108)\t1\n",
            "  (1325, 11003)\t1\n",
            "  (1325, 11444)\t1\n",
            "  (1325, 12505)\t1\n",
            "  (1325, 13113)\t1\n",
            "  (1325, 15952)\t1\n"
          ]
        }
      ]
    },
    {
      "cell_type": "code",
      "source": [
        "print(x_test)"
      ],
      "metadata": {
        "id": "43kes5lVtyHl",
        "colab": {
          "base_uri": "https://localhost:8080/"
        },
        "outputId": "0ed5296a-caf3-42c4-b3e8-6c11fe00ba66"
      },
      "execution_count": null,
      "outputs": [
        {
          "output_type": "stream",
          "name": "stdout",
          "text": [
            "3898    a fat mans paradise skinny people too i guess ...\n",
            "543     great buffet very well organized the food on t...\n",
            "3899    i feel as if the food quality tastes better du...\n",
            "4003    this is my alltime favorite buffet in vegasalt...\n",
            "4632    wow speechless is the word that describes this...\n",
            "                              ...                        \n",
            "4557    tldr expensive but youre in vegassooo impressi...\n",
            "3329    arrive at this restaurant at their were busy d...\n",
            "3913    okay you pay a lot for this buffet but you get...\n",
            "370     amazing food selection and our server carlos m...\n",
            "1419    food is soso service is not good very pricy  f...\n",
            "Name: text, Length: 1326, dtype: object\n"
          ]
        }
      ]
    },
    {
      "cell_type": "code",
      "source": [
        "tf = pd.DataFrame(x_train_dtm.toarray(), columns=vect.get_feature_names_out())\n",
        "tf.head()"
      ],
      "metadata": {
        "id": "gQNrZV9EtyEZ",
        "colab": {
          "base_uri": "https://localhost:8080/",
          "height": 426
        },
        "outputId": "2002f8dd-b9de-43d7-8704-a8b6f0d52dbe"
      },
      "execution_count": null,
      "outputs": [
        {
          "output_type": "execute_result",
          "data": {
            "text/plain": [
              "   ____  ___this  _books  aaaahsooo  aaahhh  aaamazinnng  aaammmaaazzingggg  \\\n",
              "0     0        0       0          0       0            0                  0   \n",
              "1     0        0       0          0       0            0                  0   \n",
              "2     0        0       0          0       0            0                  0   \n",
              "3     0        0       0          0       0            0                  0   \n",
              "4     0        0       0          0       0            0                  0   \n",
              "\n",
              "   aahim  aall  aamazing  ...  慢慢慢慢慢慢慢慢慢慢慢慢慢慢慢慢慢慢慢慢慢慢慢慢慢慢慢慢慢慢慢慢慢慢慢慢慢慢慢慢啊啊ーー  \\\n",
              "0      0     0         0  ...                                             0   \n",
              "1      0     0         0  ...                                             0   \n",
              "2      0     0         0  ...                                             0   \n",
              "3      0     0         0  ...                                             0   \n",
              "4      0     0         0  ...                                             0   \n",
              "\n",
              "   服务很好价格也实惠  没礼貌的服务  特に茹でたカニと  真心不怎么样  肯定是请来了全球最地道的大厨吧然而才多一位甩国内的自助条街  \\\n",
              "0          0       0         0       0                              0   \n",
              "1          0       0         0       0                              0   \n",
              "2          0       0         0       0                              0   \n",
              "3          0       0         0       0                              0   \n",
              "4          0       0         0       0                              0   \n",
              "\n",
              "   这里真心没有爱和很糟糕  连粥和油条都做的地地道道萝卜干都是萧山的味道啊  \\\n",
              "0            0                        0   \n",
              "1            0                        0   \n",
              "2            0                        0   \n",
              "3            0                        0   \n",
              "4            0                        0   \n",
              "\n",
              "   食物还可以但吃饭要排很久的队而且歧视中国人吃饭还要出示护照不是很好找在凯撒一楼赌场的里面牛排还可以但是螃蟹腿海鲜等食物一般没有想象中的好没有醋等调料吃起来可能会腻饮料需要找服务员单独要总体来说就餐体验和环境都不是很好  \\\n",
              "0                                                  0                                                              \n",
              "1                                                  0                                                              \n",
              "2                                                  0                                                              \n",
              "3                                                  0                                                              \n",
              "4                                                  0                                                              \n",
              "\n",
              "   高いけど  \n",
              "0     0  \n",
              "1     0  \n",
              "2     0  \n",
              "3     0  \n",
              "4     0  \n",
              "\n",
              "[5 rows x 16233 columns]"
            ],
            "text/html": [
              "\n",
              "  <div id=\"df-adfd7069-4153-4f69-9585-fbb1c23a9e16\" class=\"colab-df-container\">\n",
              "    <div>\n",
              "<style scoped>\n",
              "    .dataframe tbody tr th:only-of-type {\n",
              "        vertical-align: middle;\n",
              "    }\n",
              "\n",
              "    .dataframe tbody tr th {\n",
              "        vertical-align: top;\n",
              "    }\n",
              "\n",
              "    .dataframe thead th {\n",
              "        text-align: right;\n",
              "    }\n",
              "</style>\n",
              "<table border=\"1\" class=\"dataframe\">\n",
              "  <thead>\n",
              "    <tr style=\"text-align: right;\">\n",
              "      <th></th>\n",
              "      <th>____</th>\n",
              "      <th>___this</th>\n",
              "      <th>_books</th>\n",
              "      <th>aaaahsooo</th>\n",
              "      <th>aaahhh</th>\n",
              "      <th>aaamazinnng</th>\n",
              "      <th>aaammmaaazzingggg</th>\n",
              "      <th>aahim</th>\n",
              "      <th>aall</th>\n",
              "      <th>aamazing</th>\n",
              "      <th>...</th>\n",
              "      <th>慢慢慢慢慢慢慢慢慢慢慢慢慢慢慢慢慢慢慢慢慢慢慢慢慢慢慢慢慢慢慢慢慢慢慢慢慢慢慢慢啊啊ーー</th>\n",
              "      <th>服务很好价格也实惠</th>\n",
              "      <th>没礼貌的服务</th>\n",
              "      <th>特に茹でたカニと</th>\n",
              "      <th>真心不怎么样</th>\n",
              "      <th>肯定是请来了全球最地道的大厨吧然而才多一位甩国内的自助条街</th>\n",
              "      <th>这里真心没有爱和很糟糕</th>\n",
              "      <th>连粥和油条都做的地地道道萝卜干都是萧山的味道啊</th>\n",
              "      <th>食物还可以但吃饭要排很久的队而且歧视中国人吃饭还要出示护照不是很好找在凯撒一楼赌场的里面牛排还可以但是螃蟹腿海鲜等食物一般没有想象中的好没有醋等调料吃起来可能会腻饮料需要找服务员单独要总体来说就餐体验和环境都不是很好</th>\n",
              "      <th>高いけど</th>\n",
              "    </tr>\n",
              "  </thead>\n",
              "  <tbody>\n",
              "    <tr>\n",
              "      <th>0</th>\n",
              "      <td>0</td>\n",
              "      <td>0</td>\n",
              "      <td>0</td>\n",
              "      <td>0</td>\n",
              "      <td>0</td>\n",
              "      <td>0</td>\n",
              "      <td>0</td>\n",
              "      <td>0</td>\n",
              "      <td>0</td>\n",
              "      <td>0</td>\n",
              "      <td>...</td>\n",
              "      <td>0</td>\n",
              "      <td>0</td>\n",
              "      <td>0</td>\n",
              "      <td>0</td>\n",
              "      <td>0</td>\n",
              "      <td>0</td>\n",
              "      <td>0</td>\n",
              "      <td>0</td>\n",
              "      <td>0</td>\n",
              "      <td>0</td>\n",
              "    </tr>\n",
              "    <tr>\n",
              "      <th>1</th>\n",
              "      <td>0</td>\n",
              "      <td>0</td>\n",
              "      <td>0</td>\n",
              "      <td>0</td>\n",
              "      <td>0</td>\n",
              "      <td>0</td>\n",
              "      <td>0</td>\n",
              "      <td>0</td>\n",
              "      <td>0</td>\n",
              "      <td>0</td>\n",
              "      <td>...</td>\n",
              "      <td>0</td>\n",
              "      <td>0</td>\n",
              "      <td>0</td>\n",
              "      <td>0</td>\n",
              "      <td>0</td>\n",
              "      <td>0</td>\n",
              "      <td>0</td>\n",
              "      <td>0</td>\n",
              "      <td>0</td>\n",
              "      <td>0</td>\n",
              "    </tr>\n",
              "    <tr>\n",
              "      <th>2</th>\n",
              "      <td>0</td>\n",
              "      <td>0</td>\n",
              "      <td>0</td>\n",
              "      <td>0</td>\n",
              "      <td>0</td>\n",
              "      <td>0</td>\n",
              "      <td>0</td>\n",
              "      <td>0</td>\n",
              "      <td>0</td>\n",
              "      <td>0</td>\n",
              "      <td>...</td>\n",
              "      <td>0</td>\n",
              "      <td>0</td>\n",
              "      <td>0</td>\n",
              "      <td>0</td>\n",
              "      <td>0</td>\n",
              "      <td>0</td>\n",
              "      <td>0</td>\n",
              "      <td>0</td>\n",
              "      <td>0</td>\n",
              "      <td>0</td>\n",
              "    </tr>\n",
              "    <tr>\n",
              "      <th>3</th>\n",
              "      <td>0</td>\n",
              "      <td>0</td>\n",
              "      <td>0</td>\n",
              "      <td>0</td>\n",
              "      <td>0</td>\n",
              "      <td>0</td>\n",
              "      <td>0</td>\n",
              "      <td>0</td>\n",
              "      <td>0</td>\n",
              "      <td>0</td>\n",
              "      <td>...</td>\n",
              "      <td>0</td>\n",
              "      <td>0</td>\n",
              "      <td>0</td>\n",
              "      <td>0</td>\n",
              "      <td>0</td>\n",
              "      <td>0</td>\n",
              "      <td>0</td>\n",
              "      <td>0</td>\n",
              "      <td>0</td>\n",
              "      <td>0</td>\n",
              "    </tr>\n",
              "    <tr>\n",
              "      <th>4</th>\n",
              "      <td>0</td>\n",
              "      <td>0</td>\n",
              "      <td>0</td>\n",
              "      <td>0</td>\n",
              "      <td>0</td>\n",
              "      <td>0</td>\n",
              "      <td>0</td>\n",
              "      <td>0</td>\n",
              "      <td>0</td>\n",
              "      <td>0</td>\n",
              "      <td>...</td>\n",
              "      <td>0</td>\n",
              "      <td>0</td>\n",
              "      <td>0</td>\n",
              "      <td>0</td>\n",
              "      <td>0</td>\n",
              "      <td>0</td>\n",
              "      <td>0</td>\n",
              "      <td>0</td>\n",
              "      <td>0</td>\n",
              "      <td>0</td>\n",
              "    </tr>\n",
              "  </tbody>\n",
              "</table>\n",
              "<p>5 rows × 16233 columns</p>\n",
              "</div>\n",
              "    <div class=\"colab-df-buttons\">\n",
              "\n",
              "  <div class=\"colab-df-container\">\n",
              "    <button class=\"colab-df-convert\" onclick=\"convertToInteractive('df-adfd7069-4153-4f69-9585-fbb1c23a9e16')\"\n",
              "            title=\"Convert this dataframe to an interactive table.\"\n",
              "            style=\"display:none;\">\n",
              "\n",
              "  <svg xmlns=\"http://www.w3.org/2000/svg\" height=\"24px\" viewBox=\"0 -960 960 960\">\n",
              "    <path d=\"M120-120v-720h720v720H120Zm60-500h600v-160H180v160Zm220 220h160v-160H400v160Zm0 220h160v-160H400v160ZM180-400h160v-160H180v160Zm440 0h160v-160H620v160ZM180-180h160v-160H180v160Zm440 0h160v-160H620v160Z\"/>\n",
              "  </svg>\n",
              "    </button>\n",
              "\n",
              "  <style>\n",
              "    .colab-df-container {\n",
              "      display:flex;\n",
              "      gap: 12px;\n",
              "    }\n",
              "\n",
              "    .colab-df-convert {\n",
              "      background-color: #E8F0FE;\n",
              "      border: none;\n",
              "      border-radius: 50%;\n",
              "      cursor: pointer;\n",
              "      display: none;\n",
              "      fill: #1967D2;\n",
              "      height: 32px;\n",
              "      padding: 0 0 0 0;\n",
              "      width: 32px;\n",
              "    }\n",
              "\n",
              "    .colab-df-convert:hover {\n",
              "      background-color: #E2EBFA;\n",
              "      box-shadow: 0px 1px 2px rgba(60, 64, 67, 0.3), 0px 1px 3px 1px rgba(60, 64, 67, 0.15);\n",
              "      fill: #174EA6;\n",
              "    }\n",
              "\n",
              "    .colab-df-buttons div {\n",
              "      margin-bottom: 4px;\n",
              "    }\n",
              "\n",
              "    [theme=dark] .colab-df-convert {\n",
              "      background-color: #3B4455;\n",
              "      fill: #D2E3FC;\n",
              "    }\n",
              "\n",
              "    [theme=dark] .colab-df-convert:hover {\n",
              "      background-color: #434B5C;\n",
              "      box-shadow: 0px 1px 3px 1px rgba(0, 0, 0, 0.15);\n",
              "      filter: drop-shadow(0px 1px 2px rgba(0, 0, 0, 0.3));\n",
              "      fill: #FFFFFF;\n",
              "    }\n",
              "  </style>\n",
              "\n",
              "    <script>\n",
              "      const buttonEl =\n",
              "        document.querySelector('#df-adfd7069-4153-4f69-9585-fbb1c23a9e16 button.colab-df-convert');\n",
              "      buttonEl.style.display =\n",
              "        google.colab.kernel.accessAllowed ? 'block' : 'none';\n",
              "\n",
              "      async function convertToInteractive(key) {\n",
              "        const element = document.querySelector('#df-adfd7069-4153-4f69-9585-fbb1c23a9e16');\n",
              "        const dataTable =\n",
              "          await google.colab.kernel.invokeFunction('convertToInteractive',\n",
              "                                                    [key], {});\n",
              "        if (!dataTable) return;\n",
              "\n",
              "        const docLinkHtml = 'Like what you see? Visit the ' +\n",
              "          '<a target=\"_blank\" href=https://colab.research.google.com/notebooks/data_table.ipynb>data table notebook</a>'\n",
              "          + ' to learn more about interactive tables.';\n",
              "        element.innerHTML = '';\n",
              "        dataTable['output_type'] = 'display_data';\n",
              "        await google.colab.output.renderOutput(dataTable, element);\n",
              "        const docLink = document.createElement('div');\n",
              "        docLink.innerHTML = docLinkHtml;\n",
              "        element.appendChild(docLink);\n",
              "      }\n",
              "    </script>\n",
              "  </div>\n",
              "\n",
              "\n",
              "<div id=\"df-718f55cb-0ff4-4d96-9cca-fb5ea0e82a61\">\n",
              "  <button class=\"colab-df-quickchart\" onclick=\"quickchart('df-718f55cb-0ff4-4d96-9cca-fb5ea0e82a61')\"\n",
              "            title=\"Suggest charts\"\n",
              "            style=\"display:none;\">\n",
              "\n",
              "<svg xmlns=\"http://www.w3.org/2000/svg\" height=\"24px\"viewBox=\"0 0 24 24\"\n",
              "     width=\"24px\">\n",
              "    <g>\n",
              "        <path d=\"M19 3H5c-1.1 0-2 .9-2 2v14c0 1.1.9 2 2 2h14c1.1 0 2-.9 2-2V5c0-1.1-.9-2-2-2zM9 17H7v-7h2v7zm4 0h-2V7h2v10zm4 0h-2v-4h2v4z\"/>\n",
              "    </g>\n",
              "</svg>\n",
              "  </button>\n",
              "\n",
              "<style>\n",
              "  .colab-df-quickchart {\n",
              "      --bg-color: #E8F0FE;\n",
              "      --fill-color: #1967D2;\n",
              "      --hover-bg-color: #E2EBFA;\n",
              "      --hover-fill-color: #174EA6;\n",
              "      --disabled-fill-color: #AAA;\n",
              "      --disabled-bg-color: #DDD;\n",
              "  }\n",
              "\n",
              "  [theme=dark] .colab-df-quickchart {\n",
              "      --bg-color: #3B4455;\n",
              "      --fill-color: #D2E3FC;\n",
              "      --hover-bg-color: #434B5C;\n",
              "      --hover-fill-color: #FFFFFF;\n",
              "      --disabled-bg-color: #3B4455;\n",
              "      --disabled-fill-color: #666;\n",
              "  }\n",
              "\n",
              "  .colab-df-quickchart {\n",
              "    background-color: var(--bg-color);\n",
              "    border: none;\n",
              "    border-radius: 50%;\n",
              "    cursor: pointer;\n",
              "    display: none;\n",
              "    fill: var(--fill-color);\n",
              "    height: 32px;\n",
              "    padding: 0;\n",
              "    width: 32px;\n",
              "  }\n",
              "\n",
              "  .colab-df-quickchart:hover {\n",
              "    background-color: var(--hover-bg-color);\n",
              "    box-shadow: 0 1px 2px rgba(60, 64, 67, 0.3), 0 1px 3px 1px rgba(60, 64, 67, 0.15);\n",
              "    fill: var(--button-hover-fill-color);\n",
              "  }\n",
              "\n",
              "  .colab-df-quickchart-complete:disabled,\n",
              "  .colab-df-quickchart-complete:disabled:hover {\n",
              "    background-color: var(--disabled-bg-color);\n",
              "    fill: var(--disabled-fill-color);\n",
              "    box-shadow: none;\n",
              "  }\n",
              "\n",
              "  .colab-df-spinner {\n",
              "    border: 2px solid var(--fill-color);\n",
              "    border-color: transparent;\n",
              "    border-bottom-color: var(--fill-color);\n",
              "    animation:\n",
              "      spin 1s steps(1) infinite;\n",
              "  }\n",
              "\n",
              "  @keyframes spin {\n",
              "    0% {\n",
              "      border-color: transparent;\n",
              "      border-bottom-color: var(--fill-color);\n",
              "      border-left-color: var(--fill-color);\n",
              "    }\n",
              "    20% {\n",
              "      border-color: transparent;\n",
              "      border-left-color: var(--fill-color);\n",
              "      border-top-color: var(--fill-color);\n",
              "    }\n",
              "    30% {\n",
              "      border-color: transparent;\n",
              "      border-left-color: var(--fill-color);\n",
              "      border-top-color: var(--fill-color);\n",
              "      border-right-color: var(--fill-color);\n",
              "    }\n",
              "    40% {\n",
              "      border-color: transparent;\n",
              "      border-right-color: var(--fill-color);\n",
              "      border-top-color: var(--fill-color);\n",
              "    }\n",
              "    60% {\n",
              "      border-color: transparent;\n",
              "      border-right-color: var(--fill-color);\n",
              "    }\n",
              "    80% {\n",
              "      border-color: transparent;\n",
              "      border-right-color: var(--fill-color);\n",
              "      border-bottom-color: var(--fill-color);\n",
              "    }\n",
              "    90% {\n",
              "      border-color: transparent;\n",
              "      border-bottom-color: var(--fill-color);\n",
              "    }\n",
              "  }\n",
              "</style>\n",
              "\n",
              "  <script>\n",
              "    async function quickchart(key) {\n",
              "      const quickchartButtonEl =\n",
              "        document.querySelector('#' + key + ' button');\n",
              "      quickchartButtonEl.disabled = true;  // To prevent multiple clicks.\n",
              "      quickchartButtonEl.classList.add('colab-df-spinner');\n",
              "      try {\n",
              "        const charts = await google.colab.kernel.invokeFunction(\n",
              "            'suggestCharts', [key], {});\n",
              "      } catch (error) {\n",
              "        console.error('Error during call to suggestCharts:', error);\n",
              "      }\n",
              "      quickchartButtonEl.classList.remove('colab-df-spinner');\n",
              "      quickchartButtonEl.classList.add('colab-df-quickchart-complete');\n",
              "    }\n",
              "    (() => {\n",
              "      let quickchartButtonEl =\n",
              "        document.querySelector('#df-718f55cb-0ff4-4d96-9cca-fb5ea0e82a61 button');\n",
              "      quickchartButtonEl.style.display =\n",
              "        google.colab.kernel.accessAllowed ? 'block' : 'none';\n",
              "    })();\n",
              "  </script>\n",
              "</div>\n",
              "    </div>\n",
              "  </div>\n"
            ]
          },
          "metadata": {},
          "execution_count": 19
        }
      ]
    },
    {
      "cell_type": "code",
      "source": [
        "x_train.head()"
      ],
      "metadata": {
        "id": "gwFX-3cNtyBq",
        "colab": {
          "base_uri": "https://localhost:8080/"
        },
        "outputId": "9a51e2a8-cec7-44ae-92a9-c2bc305351c4"
      },
      "execution_count": null,
      "outputs": [
        {
          "output_type": "execute_result",
          "data": {
            "text/plain": [
              "2469    got there at  pm on a friday night and the lin...\n",
              "1290    this is one of the best buffets in las vegas  ...\n",
              "5256    good service good food  very kind restaurant a...\n",
              "3054    this buffet was amazing  cool relaxed scene  y...\n",
              "1478    overhyped and underwhelming food quality was s...\n",
              "Name: text, dtype: object"
            ]
          },
          "metadata": {},
          "execution_count": 20
        }
      ]
    },
    {
      "cell_type": "code",
      "source": [
        "#dont lowercase\n",
        "vect=CountVectorizer(lowercase=False)\n",
        "x_train_dtm=vect.fit_transform(x_train)\n",
        "x_train_dtm.shape"
      ],
      "metadata": {
        "id": "u8vwItL0tx-0",
        "colab": {
          "base_uri": "https://localhost:8080/"
        },
        "outputId": "ef3d6259-bcfe-4bc3-d8b5-e743bfdfabda"
      },
      "execution_count": null,
      "outputs": [
        {
          "output_type": "execute_result",
          "data": {
            "text/plain": [
              "(3977, 16529)"
            ]
          },
          "metadata": {},
          "execution_count": 21
        }
      ]
    },
    {
      "cell_type": "code",
      "source": [
        "print(vect.get_feature_names_out()[-50:])"
      ],
      "metadata": {
        "id": "4UC1rxFFuN_F",
        "colab": {
          "base_uri": "https://localhost:8080/"
        },
        "outputId": "57d382f3-fe65-4b31-bc54-ebc53f99f251"
      },
      "execution_count": null,
      "outputs": [
        {
          "output_type": "stream",
          "name": "stdout",
          "text": [
            "['yyyeeesss' 'zag' 'zealand' 'zeit' 'zero' 'zesty' 'zhongzi' 'zi' 'zig'\n",
            " 'zigzag' 'zinger' 'zip' 'zipped' 'zitis' 'zone' 'zonecold' 'zong' 'zoo'\n",
            " 'zorro' 'zu' 'zucchini' 'zugänglich' 'zur' 'àlacarte' 'östlich'\n",
            " 'únicamente' 'über' 'üblich' 'übliche' 'お料理一品一品の見た目もとても綺麗です' 'ステーキ'\n",
            " 'デザート達には' 'メチャ美味しいし' '中午没有雪蟹腿菜都很一般港式点心说的过去其他的中式菜只能说尚且入口寿司品质还行'\n",
            " '中国游客别去chinese' '凯撒宫的自助餐怎么可以这么棒帝王蟹生蚝虾蟹鲜美无比羊排叉烧披萨提拉米苏布丁每一样都想说umm好吃好吃'\n",
            " '吃出了泪花' '品揃えも豊富で' '大大満足' '并没有一些中式buffet好其实两小时的限制也让人不愉快前台不友好'\n",
            " '慢慢慢慢慢慢慢慢慢慢慢慢慢慢慢慢慢慢慢慢慢慢慢慢慢慢慢慢慢慢慢慢慢慢慢慢慢慢慢慢啊啊ーー' '服务很好价格也实惠' '没礼貌的服务'\n",
            " '特に茹でたカニと' '真心不怎么样' '肯定是请来了全球最地道的大厨吧然而才多一位甩国内的自助条街' '这里真心没有爱和很糟糕'\n",
            " '连粥和油条都做的地地道道萝卜干都是萧山的味道啊'\n",
            " '食物还可以但吃饭要排很久的队而且歧视中国人吃饭还要出示护照不是很好找在凯撒一楼赌场的里面牛排还可以但是螃蟹腿海鲜等食物一般没有想象中的好没有醋等调料吃起来可能会腻饮料需要找服务员单独要总体来说就餐体验和环境都不是很好'\n",
            " '高いけど']\n"
          ]
        }
      ]
    },
    {
      "cell_type": "code",
      "source": [
        "#Include 1-grams and 2-grams (an n-gram is N-grams is just all comb..)\n",
        "#or letters of Length n that you can find in your source text\n",
        "vect = CountVectorizer(ngram_range=(1,2))\n",
        "x_train_dtm=vect.fit_transform(x_train)\n",
        "x_train_dtm.shape"
      ],
      "metadata": {
        "id": "f1SvqEntuN7o",
        "colab": {
          "base_uri": "https://localhost:8080/"
        },
        "outputId": "f1235749-473e-4161-8667-19fe70b11a76"
      },
      "execution_count": null,
      "outputs": [
        {
          "output_type": "execute_result",
          "data": {
            "text/plain": [
              "(3977, 161129)"
            ]
          },
          "metadata": {},
          "execution_count": 23
        }
      ]
    },
    {
      "cell_type": "code",
      "source": [
        "print(vect.get_feature_names_out()[-50:])"
      ],
      "metadata": {
        "id": "cZtUQhn8uN41",
        "colab": {
          "base_uri": "https://localhost:8080/"
        },
        "outputId": "d8194dd7-831d-42a7-c834-35c7474ff8df"
      },
      "execution_count": null,
      "outputs": [
        {
          "output_type": "stream",
          "name": "stdout",
          "text": [
            "['àlacarte' 'àlacarte restaurants' 'östlich' 'östlich japanisch'\n",
            " 'únicamente' 'únicamente una' 'über' 'über das' 'üblich' 'üblich hohe'\n",
            " 'übliche' 'übliche eines' 'お料理一品一品の見た目もとても綺麗です'\n",
            " 'お料理一品一品の見た目もとても綺麗です 特に茹でたカニと' 'ステーキ' 'ステーキ デザート達には' 'デザート達には'\n",
            " 'デザート達には 大大満足' 'メチャ美味しいし' 'メチャ美味しいし 品揃えも豊富で'\n",
            " '中午没有雪蟹腿菜都很一般港式点心说的过去其他的中式菜只能说尚且入口寿司品质还行'\n",
            " '中午没有雪蟹腿菜都很一般港式点心说的过去其他的中式菜只能说尚且入口寿司品质还行 并没有一些中式buffet好其实两小时的限制也让人不愉快前台不友好'\n",
            " '中国游客别去chinese' '中国游客别去chinese tourists'\n",
            " '凯撒宫的自助餐怎么可以这么棒帝王蟹生蚝虾蟹鲜美无比羊排叉烧披萨提拉米苏布丁每一样都想说umm好吃好吃'\n",
            " '凯撒宫的自助餐怎么可以这么棒帝王蟹生蚝虾蟹鲜美无比羊排叉烧披萨提拉米苏布丁每一样都想说umm好吃好吃 x遍' '吃出了泪花'\n",
            " '吃出了泪花 肯定是请来了全球最地道的大厨吧然而才多一位甩国内的自助条街' '品揃えも豊富で'\n",
            " '品揃えも豊富で お料理一品一品の見た目もとても綺麗です' '大大満足' '并没有一些中式buffet好其实两小时的限制也让人不愉快前台不友好'\n",
            " '并没有一些中式buffet好其实两小时的限制也让人不愉快前台不友好 这里真心没有爱和很糟糕'\n",
            " '慢慢慢慢慢慢慢慢慢慢慢慢慢慢慢慢慢慢慢慢慢慢慢慢慢慢慢慢慢慢慢慢慢慢慢慢慢慢慢慢啊啊ーー'\n",
            " '慢慢慢慢慢慢慢慢慢慢慢慢慢慢慢慢慢慢慢慢慢慢慢慢慢慢慢慢慢慢慢慢慢慢慢慢慢慢慢慢啊啊ーー ing李敏哦所以你你咋去搜个xp啊'\n",
            " '服务很好价格也实惠' '服务很好价格也实惠 excellent' '没礼貌的服务' '特に茹でたカニと' '特に茹でたカニと ステーキ'\n",
            " '真心不怎么样' '真心不怎么样 中午没有雪蟹腿菜都很一般港式点心说的过去其他的中式菜只能说尚且入口寿司品质还行'\n",
            " '肯定是请来了全球最地道的大厨吧然而才多一位甩国内的自助条街' '这里真心没有爱和很糟糕' '这里真心没有爱和很糟糕 没礼貌的服务'\n",
            " '连粥和油条都做的地地道道萝卜干都是萧山的味道啊' '连粥和油条都做的地地道道萝卜干都是萧山的味道啊 吃出了泪花'\n",
            " '食物还可以但吃饭要排很久的队而且歧视中国人吃饭还要出示护照不是很好找在凯撒一楼赌场的里面牛排还可以但是螃蟹腿海鲜等食物一般没有想象中的好没有醋等调料吃起来可能会腻饮料需要找服务员单独要总体来说就餐体验和环境都不是很好'\n",
            " '高いけど' '高いけど メチャ美味しいし']\n"
          ]
        }
      ]
    },
    {
      "cell_type": "code",
      "source": [
        "vect = CountVectorizer()\n",
        "x_train_dtm = vect.fit_transform(x_train)\n",
        "x_test_dtm = vect.transform(x_test)\n",
        "\n",
        "#Naive Bayes\n",
        "nb=MultinomialNB()\n",
        "nb.fit(x_train_dtm, y_train)\n",
        "y_pred_class =nb.predict(x_test_dtm)\n",
        "\n",
        "print(metrics.accuracy_score(y_test,y_pred_class))"
      ],
      "metadata": {
        "id": "7wywBj4CuN1-",
        "colab": {
          "base_uri": "https://localhost:8080/"
        },
        "outputId": "a53d46b7-0cda-4681-ea83-e31ef7479556"
      },
      "execution_count": null,
      "outputs": [
        {
          "output_type": "stream",
          "name": "stdout",
          "text": [
            "0.9381598793363499\n"
          ]
        }
      ]
    },
    {
      "cell_type": "code",
      "source": [
        "def tokenize_test(vect):\n",
        "    x_train_dtm=vect.fit_transform(x_train)\n",
        "    print('Features: ', x_train_dtm.shape[1])\n",
        "    x_test_dtm=vect.transform(x_test)\n",
        "    nb=MultinomialNB()\n",
        "    nb.fit(x_train_dtm, y_train)\n",
        "    y_pred_class = nb.predict(x_test_dtm)\n",
        "    print('Accuracy: ', metrics.accuracy_score(y_test,y_pred_class))"
      ],
      "metadata": {
        "id": "uB5ae3yauNzB"
      },
      "execution_count": null,
      "outputs": []
    },
    {
      "cell_type": "code",
      "source": [
        "my_test_corpus = ' ı am a gulzade. A free black woman'"
      ],
      "metadata": {
        "id": "Io_aS5nHugaA"
      },
      "execution_count": null,
      "outputs": []
    },
    {
      "cell_type": "code",
      "source": [
        "vect = CountVectorizer(stop_words='english')\n",
        "tokenize_test(vect)"
      ],
      "metadata": {
        "id": "rINFv3zQugWi",
        "colab": {
          "base_uri": "https://localhost:8080/"
        },
        "outputId": "0231861d-135e-4bb3-fbec-3b69991344f2"
      },
      "execution_count": null,
      "outputs": [
        {
          "output_type": "stream",
          "name": "stdout",
          "text": [
            "Features:  16233\n",
            "Accuracy:  0.9358974358974359\n"
          ]
        }
      ]
    },
    {
      "cell_type": "code",
      "source": [
        "print(vect.get_stop_words())"
      ],
      "metadata": {
        "id": "DBoFO78IugTP",
        "colab": {
          "base_uri": "https://localhost:8080/"
        },
        "outputId": "537668ca-5bab-4d4e-8f56-d8aff6d87f56"
      },
      "execution_count": null,
      "outputs": [
        {
          "output_type": "stream",
          "name": "stdout",
          "text": [
            "frozenset({'call', 'former', 'six', 'many', 'somehow', 'four', 'up', 'at', 'above', 'hence', 'nobody', 'whenever', 'for', 'yet', 'anything', 'are', 'her', 'becomes', 'once', 'them', 'all', 'two', 'very', 'if', 'which', 'enough', 'forty', 'may', 'this', 'thereby', 'both', 'whom', 'had', 'after', 'beside', 'could', 'besides', 'perhaps', 'others', 'first', 'top', 'hers', 'might', 'indeed', 'although', 'became', 'where', 'anyhow', 'themselves', 'elsewhere', 'were', 'herself', 'none', 'whereafter', 'some', 'nowhere', 'show', 'something', 'hasnt', 'he', 'everything', 'thus', 'put', 'name', 'part', 'noone', 'becoming', 'due', 'detail', 'namely', 'hereafter', 'but', 'next', 'whole', 'there', 'me', 'into', 'his', 'would', 'us', 'any', 'what', 'together', 'amoungst', 'should', 'latter', 'is', 'you', 'nor', 'toward', 'i', 'rather', 'whether', 'off', 'seemed', 'mine', 'front', 'empty', 'meanwhile', 'someone', 'few', 'mill', 'again', 'third', 'him', 'move', 'amount', 'seems', 'on', 'an', 'by', 'every', 'can', 'well', 'same', 'three', 'cannot', 'until', 'been', 'ourselves', 'own', 'sincere', 'fifty', 'in', 'inc', 'eight', 'see', 'these', 'before', 'against', 'here', 'sometime', 'only', 'most', 'upon', 'least', 'much', 'with', 'made', 'who', 'and', 'nothing', 'otherwise', 'more', 'of', 'etc', 'therefore', 'without', 'himself', 'while', 'serious', 'describe', 'whence', 'thin', 'thereupon', 'among', 'that', 'towards', 'somewhere', 'ltd', 'amongst', 'whereby', 'afterwards', 'done', 'we', 'whose', 'hereby', 'its', 'also', 'thru', 'twenty', 'than', 'be', 'am', 'each', 'twelve', 'therein', 'full', 'either', 'hundred', 'further', 'thereafter', 'do', 'system', 'get', 'she', 'yours', 'anyone', 'anyway', 'couldnt', 'ie', 'other', 'wherever', 'fifteen', 'when', 'along', 'de', 'itself', 'not', 'or', 'they', 'wherein', 'latterly', 'interest', 'beforehand', 'however', 'below', 'my', 'whoever', 'their', 'go', 'always', 'another', 'between', 'please', 'a', 'never', 'several', 'bottom', 'then', 'cant', 'yourself', 'it', 'will', 'so', 'onto', 'ever', 'because', 'how', 'now', 'side', 'bill', 'whereupon', 'still', 'take', 'ours', 'too', 'across', 'no', 'neither', 'ten', 'whereas', 'formerly', 'fill', 'why', 'fire', 'yourselves', 'down', 'have', 'cry', 'less', 'through', 'over', 'must', 'though', 'herein', 'else', 'per', 'become', 'mostly', 'keep', 'myself', 'whatever', 'one', 'con', 'moreover', 'except', 'to', 'alone', 'from', 'being', 'behind', 'found', 'back', 'even', 'hereupon', 'such', 'co', 'last', 'five', 'your', 'since', 'anywhere', 'our', 'already', 'everyone', 'nine', 'give', 'around', 'sometimes', 'out', 'beyond', 'often', 'eleven', 'thence', 'those', 'has', 'under', 'the', 'thick', 'find', 'nevertheless', 'throughout', 'eg', 'seeming', 'within', 'was', 'seem', 'sixty', 'un', 'about', 'during', 're', 'almost', 'via', 'whither', 'as', 'everywhere'})\n"
          ]
        }
      ]
    },
    {
      "cell_type": "code",
      "source": [
        "#max features\n",
        "vect = CountVectorizer(stop_words='english', max_features=100)\n",
        "tokenize_test(vect)"
      ],
      "metadata": {
        "id": "gnaA88wMvFHU",
        "colab": {
          "base_uri": "https://localhost:8080/"
        },
        "outputId": "727a9133-3450-4753-99e5-079d27c2059c"
      },
      "execution_count": null,
      "outputs": [
        {
          "output_type": "stream",
          "name": "stdout",
          "text": [
            "Features:  100\n",
            "Accuracy:  0.8521870286576169\n"
          ]
        }
      ]
    },
    {
      "cell_type": "code",
      "source": [
        "print(vect.get_feature_names_out())"
      ],
      "metadata": {
        "id": "lZZYkMp6vFD2",
        "colab": {
          "base_uri": "https://localhost:8080/"
        },
        "outputId": "17fecd32-26b4-4fa4-e9ab-a58fcdf30b45"
      },
      "execution_count": null,
      "outputs": [
        {
          "output_type": "stream",
          "name": "stdout",
          "text": [
            "['amazing' 'asian' 'bacchanal' 'bar' 'best' 'better' 'breakfast' 'brunch'\n",
            " 'buffet' 'buffets' 'caesars' 'came' 'chinese' 'come' 'crab' 'day'\n",
            " 'definitely' 'delicious' 'dessert' 'desserts' 'did' 'didnt' 'different'\n",
            " 'dinner' 'dishes' 'dont' 'eat' 'eating' 'experience' 'favorite' 'food'\n",
            " 'fresh' 'gelato' 'going' 'good' 'got' 'great' 'hour' 'hours' 'huge' 'im'\n",
            " 'items' 'ive' 'just' 'know' 'las' 'legs' 'like' 'line' 'little' 'long'\n",
            " 'lot' 'love' 'lunch' 'make' 'meat' 'mexican' 'minutes' 'money' 'nice'\n",
            " 'options' 'oysters' 'pay' 'people' 'person' 'place' 'plates' 'pm'\n",
            " 'pretty' 'price' 'prime' 'quality' 'really' 'recommend' 'restaurant'\n",
            " 'rib' 'right' 'say' 'seafood' 'seated' 'section' 'selection' 'service'\n",
            " 'shrimp' 'station' 'sure' 'sushi' 'table' 'think' 'time' 'tried' 'try'\n",
            " 'variety' 'vegas' 'wait' 'want' 'way' 'went' 'worth' 'youre']\n"
          ]
        }
      ]
    },
    {
      "cell_type": "code",
      "source": [
        "vect = CountVectorizer(ngram_range=(1,2), max_features=100000)\n",
        "tokenize_test(vect)"
      ],
      "metadata": {
        "id": "0ID6c-RivFBE",
        "colab": {
          "base_uri": "https://localhost:8080/"
        },
        "outputId": "0a429fa1-b605-4902-d620-f112dabb84ca"
      },
      "execution_count": null,
      "outputs": [
        {
          "output_type": "stream",
          "name": "stdout",
          "text": [
            "Features:  100000\n",
            "Accuracy:  0.9223227752639518\n"
          ]
        }
      ]
    },
    {
      "cell_type": "code",
      "source": [
        "vect = CountVectorizer(ngram_range=(1,2), min_df=2)\n",
        "tokenize_test(vect)"
      ],
      "metadata": {
        "id": "QE6nMclPvch_",
        "colab": {
          "base_uri": "https://localhost:8080/"
        },
        "outputId": "e54975f5-b7d1-4385-9aaf-9992637589b6"
      },
      "execution_count": null,
      "outputs": [
        {
          "output_type": "stream",
          "name": "stdout",
          "text": [
            "Features:  46589\n",
            "Accuracy:  0.9502262443438914\n"
          ]
        }
      ]
    },
    {
      "cell_type": "markdown",
      "source": [
        "TextBlob"
      ],
      "metadata": {
        "id": "enwFlqcbv7mJ"
      }
    },
    {
      "cell_type": "code",
      "source": [
        "from textblob import TextBlob\n",
        "b=TextBlob('I have  good spelinhg')\n",
        "print(b.correct())"
      ],
      "metadata": {
        "id": "-_Vkyhm3GKLT",
        "colab": {
          "base_uri": "https://localhost:8080/"
        },
        "outputId": "27e9fb99-a6fa-4c84-a302-8ec36bad45b9"
      },
      "execution_count": null,
      "outputs": [
        {
          "output_type": "stream",
          "name": "stdout",
          "text": [
            "I have  good spelling\n"
          ]
        }
      ]
    },
    {
      "cell_type": "code",
      "source": [
        "yazim = TextBlob('aatım gülzade nazılsın') # türkçe için yok\n",
        "print(yazim.correct())"
      ],
      "metadata": {
        "colab": {
          "base_uri": "https://localhost:8080/"
        },
        "id": "wTCyfaej5lcQ",
        "outputId": "f8a5ee4b-79ed-49a2-c127-24f74b629dd0"
      },
      "execution_count": null,
      "outputs": [
        {
          "output_type": "stream",
          "name": "stdout",
          "text": [
            "atom glade nazılsın\n"
          ]
        }
      ]
    },
    {
      "cell_type": "code",
      "source": [
        "from textblob import Word\n",
        "w=Word('falability')\n",
        "w.spellcheck()"
      ],
      "metadata": {
        "id": "T8Stjr1AGQMM",
        "colab": {
          "base_uri": "https://localhost:8080/"
        },
        "outputId": "dc79da70-8491-46ae-e6eb-ee1227c43a53"
      },
      "execution_count": null,
      "outputs": [
        {
          "output_type": "execute_result",
          "data": {
            "text/plain": [
              "[('fallibility', 0.3333333333333333),\n",
              " ('capability', 0.3333333333333333),\n",
              " ('affability', 0.3333333333333333)]"
            ]
          },
          "metadata": {},
          "execution_count": 36
        }
      ]
    },
    {
      "cell_type": "code",
      "source": [
        "from langdetect import detect\n",
        "print(detect(\"War doesn't show who's right, just who's left.\"))\n",
        "print(detect(\"Ein, zwei, drei, vier\"))\n",
        "print(detect(\"Eu  gosto de mulher\"))\n",
        "print(detect(\"Nasılsınız\"))\n",
        "print(detect(\"tmm knk\"))"
      ],
      "metadata": {
        "id": "bYFBIj5xGVuX",
        "colab": {
          "base_uri": "https://localhost:8080/"
        },
        "outputId": "eda75637-2b76-4d9b-f85c-55cdfa0a6486"
      },
      "execution_count": null,
      "outputs": [
        {
          "output_type": "stream",
          "name": "stdout",
          "text": [
            "en\n",
            "de\n",
            "pt\n",
            "tr\n",
            "no\n"
          ]
        }
      ]
    },
    {
      "cell_type": "code",
      "source": [
        "tr_blob = TextBlob(u\"Benim çok işim var\")\n",
        "tr_blob.translate(from_lang=\"tr\", to=\"de\")"
      ],
      "metadata": {
        "id": "pmucT-FoGXw4",
        "colab": {
          "base_uri": "https://localhost:8080/"
        },
        "outputId": "44944f10-9ab7-4352-83ee-b48746d7ff99"
      },
      "execution_count": null,
      "outputs": [
        {
          "output_type": "execute_result",
          "data": {
            "text/plain": [
              "TextBlob(\"Ich habe viel Arbeit\")"
            ]
          },
          "metadata": {},
          "execution_count": 38
        }
      ]
    },
    {
      "cell_type": "code",
      "source": [
        "en_blob = TextBlob(u\"I am a free black man loved by Jesus\")\n",
        "en_blob.translate(from_lang='en', to='fr')"
      ],
      "metadata": {
        "id": "QimdPfalGWvo",
        "colab": {
          "base_uri": "https://localhost:8080/"
        },
        "outputId": "3455c561-39fc-4117-c988-09a831faf5f3"
      },
      "execution_count": null,
      "outputs": [
        {
          "output_type": "execute_result",
          "data": {
            "text/plain": [
              "TextBlob(\"Je suis un homme noir libre aimé de Jésus\")"
            ]
          },
          "metadata": {},
          "execution_count": 39
        }
      ]
    },
    {
      "cell_type": "code",
      "source": [
        "print(yelp_best_worst.text[0])"
      ],
      "metadata": {
        "id": "B4zyqZg7vceg",
        "colab": {
          "base_uri": "https://localhost:8080/"
        },
        "outputId": "abc12e58-726d-47b9-e766-653029a749c7"
      },
      "execution_count": null,
      "outputs": [
        {
          "output_type": "stream",
          "name": "stdout",
          "text": [
            "after getting food poisoning at the palms hotel i was scared to eat at any more buffets but we figured with the high price tag the positive reviews etc it was worth a chance im really glad we gave it a try btw i uploaded a collage of the things we atethe seafood line is by the far the longest i would not recommend showing up in heels if youre female my feet were killing me between the line at the door the line to get sat and the seafood line totally worth it thoughthe prime rib was the best ive ever hadi loved the sweet potato totsi even have phothe music was great and so was our server alma  he was a older gentleman with a mustache and was very attentive and delightfuli will return next trip in more comfortable shoes after a horrible visit at the palms with non stop issues in a matter of  hours your establishment was truly the high light of our trip thank you for an exquisite dinner\n"
          ]
        }
      ]
    },
    {
      "cell_type": "code",
      "source": [
        "review=TextBlob(yelp_best_worst.text[0])"
      ],
      "metadata": {
        "id": "Y1BxA7vHvcbz"
      },
      "execution_count": null,
      "outputs": []
    },
    {
      "cell_type": "code",
      "source": [],
      "metadata": {
        "id": "pRHrBjR8PxIT"
      },
      "execution_count": null,
      "outputs": []
    },
    {
      "cell_type": "code",
      "source": [
        "import nltk\n",
        "nltk.download('punkt')"
      ],
      "metadata": {
        "id": "LCgvKjLdwa7D",
        "colab": {
          "base_uri": "https://localhost:8080/"
        },
        "outputId": "06a45abf-599d-40c3-c49a-22ec3e944ebb"
      },
      "execution_count": null,
      "outputs": [
        {
          "output_type": "stream",
          "name": "stderr",
          "text": [
            "[nltk_data] Downloading package punkt to /root/nltk_data...\n",
            "[nltk_data]   Unzipping tokenizers/punkt.zip.\n"
          ]
        },
        {
          "output_type": "execute_result",
          "data": {
            "text/plain": [
              "True"
            ]
          },
          "metadata": {},
          "execution_count": 42
        }
      ]
    },
    {
      "cell_type": "code",
      "source": [
        "review.words"
      ],
      "metadata": {
        "id": "8NHwnNLVvcZT",
        "colab": {
          "base_uri": "https://localhost:8080/"
        },
        "outputId": "684aeaeb-0d6a-49e3-df44-9e832945183c"
      },
      "execution_count": null,
      "outputs": [
        {
          "output_type": "execute_result",
          "data": {
            "text/plain": [
              "WordList(['after', 'getting', 'food', 'poisoning', 'at', 'the', 'palms', 'hotel', 'i', 'was', 'scared', 'to', 'eat', 'at', 'any', 'more', 'buffets', 'but', 'we', 'figured', 'with', 'the', 'high', 'price', 'tag', 'the', 'positive', 'reviews', 'etc', 'it', 'was', 'worth', 'a', 'chance', 'im', 'really', 'glad', 'we', 'gave', 'it', 'a', 'try', 'btw', 'i', 'uploaded', 'a', 'collage', 'of', 'the', 'things', 'we', 'atethe', 'seafood', 'line', 'is', 'by', 'the', 'far', 'the', 'longest', 'i', 'would', 'not', 'recommend', 'showing', 'up', 'in', 'heels', 'if', 'youre', 'female', 'my', 'feet', 'were', 'killing', 'me', 'between', 'the', 'line', 'at', 'the', 'door', 'the', 'line', 'to', 'get', 'sat', 'and', 'the', 'seafood', 'line', 'totally', 'worth', 'it', 'thoughthe', 'prime', 'rib', 'was', 'the', 'best', 'ive', 'ever', 'hadi', 'loved', 'the', 'sweet', 'potato', 'totsi', 'even', 'have', 'phothe', 'music', 'was', 'great', 'and', 'so', 'was', 'our', 'server', 'alma', 'he', 'was', 'a', 'older', 'gentleman', 'with', 'a', 'mustache', 'and', 'was', 'very', 'attentive', 'and', 'delightfuli', 'will', 'return', 'next', 'trip', 'in', 'more', 'comfortable', 'shoes', 'after', 'a', 'horrible', 'visit', 'at', 'the', 'palms', 'with', 'non', 'stop', 'issues', 'in', 'a', 'matter', 'of', 'hours', 'your', 'establishment', 'was', 'truly', 'the', 'high', 'light', 'of', 'our', 'trip', 'thank', 'you', 'for', 'an', 'exquisite', 'dinner'])"
            ]
          },
          "metadata": {},
          "execution_count": 43
        }
      ]
    },
    {
      "cell_type": "code",
      "source": [
        "review.sentences"
      ],
      "metadata": {
        "id": "9nOzRjvmvcWe",
        "colab": {
          "base_uri": "https://localhost:8080/"
        },
        "outputId": "bcd46cb4-0dce-42d8-a0dd-8ed75919c2ba"
      },
      "execution_count": null,
      "outputs": [
        {
          "output_type": "execute_result",
          "data": {
            "text/plain": [
              "[Sentence(\"after getting food poisoning at the palms hotel i was scared to eat at any more buffets but we figured with the high price tag the positive reviews etc it was worth a chance im really glad we gave it a try btw i uploaded a collage of the things we atethe seafood line is by the far the longest i would not recommend showing up in heels if youre female my feet were killing me between the line at the door the line to get sat and the seafood line totally worth it thoughthe prime rib was the best ive ever hadi loved the sweet potato totsi even have phothe music was great and so was our server alma  he was a older gentleman with a mustache and was very attentive and delightfuli will return next trip in more comfortable shoes after a horrible visit at the palms with non stop issues in a matter of  hours your establishment was truly the high light of our trip thank you for an exquisite dinner\")]"
            ]
          },
          "metadata": {},
          "execution_count": 44
        }
      ]
    },
    {
      "cell_type": "code",
      "source": [
        "review.lower()"
      ],
      "metadata": {
        "id": "F-I4e3jVwhNr",
        "colab": {
          "base_uri": "https://localhost:8080/"
        },
        "outputId": "8c2fad74-bf66-4ab1-a90d-dd763030a7ff"
      },
      "execution_count": null,
      "outputs": [
        {
          "output_type": "execute_result",
          "data": {
            "text/plain": [
              "TextBlob(\"after getting food poisoning at the palms hotel i was scared to eat at any more buffets but we figured with the high price tag the positive reviews etc it was worth a chance im really glad we gave it a try btw i uploaded a collage of the things we atethe seafood line is by the far the longest i would not recommend showing up in heels if youre female my feet were killing me between the line at the door the line to get sat and the seafood line totally worth it thoughthe prime rib was the best ive ever hadi loved the sweet potato totsi even have phothe music was great and so was our server alma  he was a older gentleman with a mustache and was very attentive and delightfuli will return next trip in more comfortable shoes after a horrible visit at the palms with non stop issues in a matter of  hours your establishment was truly the high light of our trip thank you for an exquisite dinner\")"
            ]
          },
          "metadata": {},
          "execution_count": 45
        }
      ]
    },
    {
      "cell_type": "markdown",
      "source": [
        "Stemming and Lemmatization"
      ],
      "metadata": {
        "id": "heRa9eAKwtf_"
      }
    },
    {
      "cell_type": "code",
      "source": [
        "stemmer = SnowballStemmer('english')\n",
        "print([stemmer.stem(word) for word in review.words])"
      ],
      "metadata": {
        "id": "8KV3HgW-whKR",
        "colab": {
          "base_uri": "https://localhost:8080/"
        },
        "outputId": "b3267967-debc-4684-8f1d-a916582aded6"
      },
      "execution_count": null,
      "outputs": [
        {
          "output_type": "stream",
          "name": "stdout",
          "text": [
            "['after', 'get', 'food', 'poison', 'at', 'the', 'palm', 'hotel', 'i', 'was', 'scare', 'to', 'eat', 'at', 'ani', 'more', 'buffet', 'but', 'we', 'figur', 'with', 'the', 'high', 'price', 'tag', 'the', 'posit', 'review', 'etc', 'it', 'was', 'worth', 'a', 'chanc', 'im', 'realli', 'glad', 'we', 'gave', 'it', 'a', 'tri', 'btw', 'i', 'upload', 'a', 'collag', 'of', 'the', 'thing', 'we', 'ateth', 'seafood', 'line', 'is', 'by', 'the', 'far', 'the', 'longest', 'i', 'would', 'not', 'recommend', 'show', 'up', 'in', 'heel', 'if', 'your', 'femal', 'my', 'feet', 'were', 'kill', 'me', 'between', 'the', 'line', 'at', 'the', 'door', 'the', 'line', 'to', 'get', 'sat', 'and', 'the', 'seafood', 'line', 'total', 'worth', 'it', 'thoughth', 'prime', 'rib', 'was', 'the', 'best', 'ive', 'ever', 'hadi', 'love', 'the', 'sweet', 'potato', 'totsi', 'even', 'have', 'photh', 'music', 'was', 'great', 'and', 'so', 'was', 'our', 'server', 'alma', 'he', 'was', 'a', 'older', 'gentleman', 'with', 'a', 'mustach', 'and', 'was', 'veri', 'attent', 'and', 'delightfuli', 'will', 'return', 'next', 'trip', 'in', 'more', 'comfort', 'shoe', 'after', 'a', 'horribl', 'visit', 'at', 'the', 'palm', 'with', 'non', 'stop', 'issu', 'in', 'a', 'matter', 'of', 'hour', 'your', 'establish', 'was', 'truli', 'the', 'high', 'light', 'of', 'our', 'trip', 'thank', 'you', 'for', 'an', 'exquisit', 'dinner']\n"
          ]
        }
      ]
    },
    {
      "cell_type": "code",
      "source": [
        "nltk.download('wordnet')"
      ],
      "metadata": {
        "id": "ZfeZ1tQVxJx9",
        "colab": {
          "base_uri": "https://localhost:8080/"
        },
        "outputId": "37d9458d-ef77-4bb5-bca3-b3274e355f97"
      },
      "execution_count": null,
      "outputs": [
        {
          "output_type": "stream",
          "name": "stderr",
          "text": [
            "[nltk_data] Downloading package wordnet to /root/nltk_data...\n"
          ]
        },
        {
          "output_type": "execute_result",
          "data": {
            "text/plain": [
              "True"
            ]
          },
          "metadata": {},
          "execution_count": 47
        }
      ]
    },
    {
      "cell_type": "code",
      "source": [
        "print([word.lemmatize() for word in review.words])"
      ],
      "metadata": {
        "id": "YxDA9ht5whHj",
        "colab": {
          "base_uri": "https://localhost:8080/"
        },
        "outputId": "8a5429c3-b62b-4c62-8012-572b2b8d1b41"
      },
      "execution_count": null,
      "outputs": [
        {
          "output_type": "stream",
          "name": "stdout",
          "text": [
            "['after', 'getting', 'food', 'poisoning', 'at', 'the', 'palm', 'hotel', 'i', 'wa', 'scared', 'to', 'eat', 'at', 'any', 'more', 'buffet', 'but', 'we', 'figured', 'with', 'the', 'high', 'price', 'tag', 'the', 'positive', 'review', 'etc', 'it', 'wa', 'worth', 'a', 'chance', 'im', 'really', 'glad', 'we', 'gave', 'it', 'a', 'try', 'btw', 'i', 'uploaded', 'a', 'collage', 'of', 'the', 'thing', 'we', 'atethe', 'seafood', 'line', 'is', 'by', 'the', 'far', 'the', 'longest', 'i', 'would', 'not', 'recommend', 'showing', 'up', 'in', 'heel', 'if', 'youre', 'female', 'my', 'foot', 'were', 'killing', 'me', 'between', 'the', 'line', 'at', 'the', 'door', 'the', 'line', 'to', 'get', 'sat', 'and', 'the', 'seafood', 'line', 'totally', 'worth', 'it', 'thoughthe', 'prime', 'rib', 'wa', 'the', 'best', 'ive', 'ever', 'hadi', 'loved', 'the', 'sweet', 'potato', 'totsi', 'even', 'have', 'phothe', 'music', 'wa', 'great', 'and', 'so', 'wa', 'our', 'server', 'alma', 'he', 'wa', 'a', 'older', 'gentleman', 'with', 'a', 'mustache', 'and', 'wa', 'very', 'attentive', 'and', 'delightfuli', 'will', 'return', 'next', 'trip', 'in', 'more', 'comfortable', 'shoe', 'after', 'a', 'horrible', 'visit', 'at', 'the', 'palm', 'with', 'non', 'stop', 'issue', 'in', 'a', 'matter', 'of', 'hour', 'your', 'establishment', 'wa', 'truly', 'the', 'high', 'light', 'of', 'our', 'trip', 'thank', 'you', 'for', 'an', 'exquisite', 'dinner']\n"
          ]
        }
      ]
    },
    {
      "cell_type": "code",
      "source": [
        "# assume every word is a verb\n",
        "print([word.lemmatize(pos='v') for word in review.words])"
      ],
      "metadata": {
        "id": "_3zg1FkCxMar",
        "colab": {
          "base_uri": "https://localhost:8080/"
        },
        "outputId": "cb2d513d-727d-41a6-83ed-f70a40721187"
      },
      "execution_count": null,
      "outputs": [
        {
          "output_type": "stream",
          "name": "stdout",
          "text": [
            "['after', 'get', 'food', 'poison', 'at', 'the', 'palm', 'hotel', 'i', 'be', 'scar', 'to', 'eat', 'at', 'any', 'more', 'buffet', 'but', 'we', 'figure', 'with', 'the', 'high', 'price', 'tag', 'the', 'positive', 'review', 'etc', 'it', 'be', 'worth', 'a', 'chance', 'im', 'really', 'glad', 'we', 'give', 'it', 'a', 'try', 'btw', 'i', 'upload', 'a', 'collage', 'of', 'the', 'things', 'we', 'atethe', 'seafood', 'line', 'be', 'by', 'the', 'far', 'the', 'longest', 'i', 'would', 'not', 'recommend', 'show', 'up', 'in', 'heel', 'if', 'youre', 'female', 'my', 'feet', 'be', 'kill', 'me', 'between', 'the', 'line', 'at', 'the', 'door', 'the', 'line', 'to', 'get', 'sit', 'and', 'the', 'seafood', 'line', 'totally', 'worth', 'it', 'thoughthe', 'prime', 'rib', 'be', 'the', 'best', 'ive', 'ever', 'hadi', 'love', 'the', 'sweet', 'potato', 'totsi', 'even', 'have', 'phothe', 'music', 'be', 'great', 'and', 'so', 'be', 'our', 'server', 'alma', 'he', 'be', 'a', 'older', 'gentleman', 'with', 'a', 'mustache', 'and', 'be', 'very', 'attentive', 'and', 'delightfuli', 'will', 'return', 'next', 'trip', 'in', 'more', 'comfortable', 'shoe', 'after', 'a', 'horrible', 'visit', 'at', 'the', 'palm', 'with', 'non', 'stop', 'issue', 'in', 'a', 'matter', 'of', 'hours', 'your', 'establishment', 'be', 'truly', 'the', 'high', 'light', 'of', 'our', 'trip', 'thank', 'you', 'for', 'an', 'exquisite', 'dinner']\n"
          ]
        }
      ]
    },
    {
      "cell_type": "code",
      "source": [
        "def split_into_lemmas(text):\n",
        "  text=str(text).lower()\n",
        "  words=TextBlob(text).words\n",
        "  return [stemmer.stem(word) for word in words]"
      ],
      "metadata": {
        "id": "1AXIQVkaxMXT"
      },
      "execution_count": null,
      "outputs": []
    },
    {
      "cell_type": "code",
      "source": [
        "#split review text into lemmas rather than into words (default)\n",
        "vect=CountVectorizer(analyzer=split_into_lemmas)\n",
        "tokenize_test(vect)"
      ],
      "metadata": {
        "id": "qmtMCW4PxMUT",
        "colab": {
          "base_uri": "https://localhost:8080/"
        },
        "outputId": "5ccbf2f7-9b6a-4b79-be83-a8cfaa3bb732"
      },
      "execution_count": null,
      "outputs": [
        {
          "output_type": "stream",
          "name": "stdout",
          "text": [
            "Features:  12889\n",
            "Accuracy:  0.9343891402714932\n"
          ]
        }
      ]
    },
    {
      "cell_type": "code",
      "source": [
        "print(vect.get_feature_names_out()[-50:])"
      ],
      "metadata": {
        "id": "Fg6xAYYcxMRh",
        "colab": {
          "base_uri": "https://localhost:8080/"
        },
        "outputId": "2da20bf7-823d-47f4-df34-a08bdd70b229"
      },
      "execution_count": null,
      "outputs": [
        {
          "output_type": "stream",
          "name": "stdout",
          "text": [
            "['z' 'zag' 'zealand' 'zeit' 'zero' 'zesti' 'zhongzi' 'zi' 'zig' 'zigzag'\n",
            " 'zinger' 'zip' 'ziti' 'zone' 'zonecold' 'zong' 'zoo' 'zorro' 'zu'\n",
            " 'zucchini' 'zugänglich' 'zur' 'à' 'àlacart' 'östlich' 'únicament' 'über'\n",
            " 'üblich' 'お料理一品一品の見た目もとても綺麗です' 'ステーキ' 'デザート達には' 'メチャ美味しいし'\n",
            " '中午没有雪蟹腿菜都很一般港式点心说的过去其他的中式菜只能说尚且入口寿司品质还行' '中国游客别去chines'\n",
            " '凯撒宫的自助餐怎么可以这么棒帝王蟹生蚝虾蟹鲜美无比羊排叉烧披萨提拉米苏布丁每一样都想说umm好吃好吃' '吃出了泪花' '品揃えも豊富で'\n",
            " '大大満足' '并没有一些中式buffet好其实两小时的限制也让人不愉快前台不友好'\n",
            " '慢慢慢慢慢慢慢慢慢慢慢慢慢慢慢慢慢慢慢慢慢慢慢慢慢慢慢慢慢慢慢慢慢慢慢慢慢慢慢慢啊啊ーー' '服务很好价格也实惠' '没礼貌的服务'\n",
            " '特に茹でたカニと' '皿' '真心不怎么样' '肯定是请来了全球最地道的大厨吧然而才多一位甩国内的自助条街' '这里真心没有爱和很糟糕'\n",
            " '连粥和油条都做的地地道道萝卜干都是萧山的味道啊'\n",
            " '食物还可以但吃饭要排很久的队而且歧视中国人吃饭还要出示护照不是很好找在凯撒一楼赌场的里面牛排还可以但是螃蟹腿海鲜等食物一般没有想象中的好没有醋等调料吃起来可能会腻饮料需要找服务员单独要总体来说就餐体验和环境都不是很好'\n",
            " '高いけど']\n"
          ]
        }
      ]
    },
    {
      "cell_type": "markdown",
      "source": [
        "Using TF-IDF summarize  a yelpreview"
      ],
      "metadata": {
        "id": "Z_PatyYwyJSe"
      }
    },
    {
      "cell_type": "code",
      "source": [
        "#create a document - term matrix using TF-IDF\n",
        "vect=TfidfVectorizer(stop_words='english')\n",
        "dtm=vect.fit_transform(yelp.text)\n",
        "features=vect.get_feature_names_out()\n",
        "dtm.shape"
      ],
      "metadata": {
        "id": "0WyE0dowwhFC",
        "colab": {
          "base_uri": "https://localhost:8080/"
        },
        "outputId": "20804025-b1e8-46fc-d13f-e897f883223a"
      },
      "execution_count": null,
      "outputs": [
        {
          "output_type": "execute_result",
          "data": {
            "text/plain": [
              "(10417, 32156)"
            ]
          },
          "metadata": {},
          "execution_count": 53
        }
      ]
    },
    {
      "cell_type": "code",
      "source": [
        "def summarize():\n",
        "  review_length=0\n",
        "  while review_length < 300:\n",
        "    review_id=np.random.randint(0, len(yelp))\n",
        "    review_text=str(yelp.text[review_id])\n",
        "    review_length=len(review_text)\n",
        "  word_scores={}\n",
        "  for word in TextBlob(review_text).words:\n",
        "    word=word.lower()\n",
        "    if word in features:\n",
        "      word_scores[word ]=dtm[review_id, features.index(word)]\n",
        "\n",
        "  print('TOP SCORING WORDS: ')\n",
        "  top_scores=sorted(word_scores.items(), key=lambda x : x[1], reverse=True)\n",
        "  for word, score in top_scores:\n",
        "    print(word)\n",
        "\n",
        "  print('\\n' + review_text)"
      ],
      "metadata": {
        "id": "wDSLwxlRwhCN"
      },
      "execution_count": null,
      "outputs": []
    }
  ],
  "metadata": {
    "accelerator": "GPU",
    "colab": {
      "provenance": [],
      "gpuType": "T4"
    },
    "kernelspec": {
      "display_name": "Python 3",
      "name": "python3"
    },
    "language_info": {
      "name": "python"
    }
  },
  "nbformat": 4,
  "nbformat_minor": 0
}